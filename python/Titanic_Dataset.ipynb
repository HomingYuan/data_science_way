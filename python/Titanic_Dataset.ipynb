{
 "cells": [
  {
   "cell_type": "code",
   "execution_count": 1,
   "metadata": {
    "collapsed": true
   },
   "outputs": [],
   "source": [
    "import pandas as pd\n",
    "titanic = pd.read_csv('titanic_dataset.csv')"
   ]
  },
  {
   "cell_type": "code",
   "execution_count": 2,
   "metadata": {},
   "outputs": [
    {
     "name": "stdout",
     "output_type": "stream",
     "text": [
      "          survived       pclass          age        sibsp        parch  \\\ncount  1309.000000  1309.000000  1309.000000  1309.000000  1309.000000   \nmean      0.381971     2.294882    23.877515     0.498854     0.385027   \nstd       0.486055     0.837836    17.590848     1.041658     0.865560   \nmin       0.000000     1.000000     0.000000     0.000000     0.000000   \n25%       0.000000     2.000000     7.000000     0.000000     0.000000   \n50%       0.000000     3.000000    24.000000     0.000000     0.000000   \n75%       1.000000     3.000000    35.000000     1.000000     0.000000   \nmax       1.000000     3.000000    80.000000     8.000000     9.000000   \n\n              fare  \ncount  1309.000000  \nmean     33.276075  \nstd      51.743642  \nmin       0.000000  \n25%       7.895800  \n50%      14.454200  \n75%      31.275000  \nmax     512.329200  \n"
     ]
    }
   ],
   "source": [
    "print(titanic.describe())"
   ]
  },
  {
   "cell_type": "code",
   "execution_count": 3,
   "metadata": {},
   "outputs": [],
   "source": [
    "titanic['age'] = titanic['age'].fillna(titanic['age'].median())  # 对N/A值进行填充"
   ]
  },
  {
   "cell_type": "code",
   "execution_count": 4,
   "metadata": {},
   "outputs": [],
   "source": [
    "titanic.loc[titanic['sex'] == 'male', 'sex'] = 0\n",
    "titanic.loc[titanic['sex'] == 'female', 'sex'] = 1  # 对字符进行编码"
   ]
  },
  {
   "cell_type": "code",
   "execution_count": 5,
   "metadata": {},
   "outputs": [
    {
     "name": "stderr",
     "output_type": "stream",
     "text": [
      "D:\\python3.4\\lib\\site-packages\\sklearn\\cross_validation.py:44: DeprecationWarning: This module was deprecated in version 0.18 in favor of the model_selection module into which all the refactored classes and functions are moved. Also note that the interface of the new CV iterators are different from that of this module. This module will be removed in 0.20.\n  \"This module will be removed in 0.20.\", DeprecationWarning)\n"
     ]
    }
   ],
   "source": [
    "from sklearn.linear_model import LinearRegression  # 线性回归\n",
    "from sklearn.cross_validation import KFold  # 交叉验证"
   ]
  },
  {
   "cell_type": "code",
   "execution_count": 6,
   "metadata": {},
   "outputs": [],
   "source": [
    "predictors = ['pclass', 'sex', 'age', 'sibsp', 'fare']  # 需要参与到模型的数据列"
   ]
  },
  {
   "cell_type": "code",
   "execution_count": 7,
   "metadata": {},
   "outputs": [],
   "source": [
    "alg = LinearRegression()"
   ]
  },
  {
   "cell_type": "code",
   "execution_count": null,
   "metadata": {},
   "outputs": [],
   "source": [
    ""
   ]
  }
 ],
 "metadata": {
  "kernelspec": {
   "display_name": "Python 2",
   "language": "python",
   "name": "python2"
  },
  "language_info": {
   "codemirror_mode": {
    "name": "ipython",
    "version": 2.0
   },
   "file_extension": ".py",
   "mimetype": "text/x-python",
   "name": "python",
   "nbconvert_exporter": "python",
   "pygments_lexer": "ipython2",
   "version": "2.7.6"
  }
 },
 "nbformat": 4,
 "nbformat_minor": 0
}