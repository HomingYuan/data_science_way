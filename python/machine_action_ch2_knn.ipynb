{
 "cells": [
  {
   "cell_type": "code",
   "execution_count": 1,
   "metadata": {
    "collapsed": true
   },
   "outputs": [],
   "source": [
    "from numpy import *\n",
    "import operator"
   ]
  },
  {
   "cell_type": "code",
   "execution_count": 2,
   "metadata": {},
   "outputs": [],
   "source": [
    "def createDataSet():\n",
    "    group = array([[1.0, 1.1], [1.1, 1.0], [0, 0], [0, 0.1]])\n",
    "    labels = ['A', 'A', 'B', 'B']\n",
    "    return group, labels"
   ]
  },
  {
   "cell_type": "code",
   "execution_count": 3,
   "metadata": {},
   "outputs": [],
   "source": [
    "group, labels = createDataSet()"
   ]
  },
  {
   "cell_type": "code",
   "execution_count": 4,
   "metadata": {},
   "outputs": [
    {
     "data": {
      "text/plain": [
       "array([[ 1. ,  1.1],\n       [ 1.1,  1. ],\n       [ 0. ,  0. ],\n       [ 0. ,  0.1]])"
      ]
     },
     "execution_count": 4,
     "metadata": {},
     "output_type": "execute_result"
    }
   ],
   "source": [
    "group"
   ]
  },
  {
   "cell_type": "code",
   "execution_count": 5,
   "metadata": {},
   "outputs": [
    {
     "data": {
      "text/plain": [
       "['A', 'A', 'B', 'B']"
      ]
     },
     "execution_count": 5,
     "metadata": {},
     "output_type": "execute_result"
    }
   ],
   "source": [
    "labels"
   ]
  },
  {
   "cell_type": "code",
   "execution_count": null,
   "metadata": {},
   "outputs": [],
   "source": [
    "def classify0(inX, dataSet, labels, k):\n",
    "    dataSetSize = dataSet.shape[0]\n",
    "    diffMat = tile(inX, (dataSetSize, 1)) - dataSet\n",
    "    sqDiffMat = diffMat ** 2\n",
    "    sqDistances = sqDiffMat.sum(axis=1)\n",
    "    distances = sqDistances ** 0.5\n",
    "    sortedDistIndicies = distances.argsort()\n",
    "    classCount = {}\n",
    "    for i in range(k):\n",
    "        voteIlabel = labels[sortedDistIndicies[i]]\n",
    "        classCount[voteIlabel] = classCount.get(voteIlabel, 0) + 1\n",
    "    sortedClassCount = sorted(classCount.items(),key=operator.itemgetter(1),reverse=True)\n",
    "    return sortedClassCount[0][0]\n",
    "classify0([0,0], group,labels, 3)"
   ]
  },
  {
   "cell_type": "code",
   "execution_count": null,
   "metadata": {},
   "outputs": [],
   "source": [
    "\"\"\"\n",
    "代码释疑\n",
    "1.tile函数\n",
    "numpy.tile([0,0],5 ) output array([0, 0, 0, 0, 0, 0, 0, 0, 0, 0]) \n",
    "numpy.tile([0,0],(2,1))#在列方向上重复[0,0]1次，行2次  output array([[0, 0],  \n",
    "       [0, 0]])\n",
    "numpy.tile([0,0],(1,3))#在列方向上重复[0,0]3次，行1次  output array([[0, 0, 0, 0, 0, 0]]) \n",
    "numpy.tile([0,0],(2,3)) output array([[0, 0, 0, 0, 0, 0],  \n",
    "     output  [0, 0, 0, 0, 0, 0]]) \n",
    "2.np.sum() axis=1表示按行相加 , axis=0表示按列相加\n",
    "3.argsort 排序\n",
    "4.itemgetter \n",
    "\n",
    "\"\"\""
   ]
  },
  {
   "cell_type": "code",
   "execution_count": 9,
   "metadata": {},
   "outputs": [
    {
     "data": {
      "text/plain": [
       "array([0, 0, 0, 0, 0, 0, 0, 0, 0, 0])"
      ]
     },
     "execution_count": 9,
     "metadata": {},
     "output_type": "execute_result"
    }
   ],
   "source": [
    "tile([0, 0], 5)"
   ]
  },
  {
   "cell_type": "code",
   "execution_count": 10,
   "metadata": {},
   "outputs": [
    {
     "data": {
      "text/plain": [
       "array([[0, 0],\n       [0, 0]])"
      ]
     },
     "execution_count": 10,
     "metadata": {},
     "output_type": "execute_result"
    }
   ],
   "source": [
    "tile([0,0],(2,1))"
   ]
  },
  {
   "cell_type": "code",
   "execution_count": 11,
   "metadata": {},
   "outputs": [
    {
     "data": {
      "text/plain": [
       "array([[0, 0, 0, 0, 0, 0]])"
      ]
     },
     "execution_count": 11,
     "metadata": {},
     "output_type": "execute_result"
    }
   ],
   "source": [
    "tile([0,0],(1,3))"
   ]
  },
  {
   "cell_type": "code",
   "execution_count": 12,
   "metadata": {},
   "outputs": [
    {
     "data": {
      "text/plain": [
       "array([[0, 0, 0, 0, 0, 0],\n       [0, 0, 0, 0, 0, 0]])"
      ]
     },
     "execution_count": 12,
     "metadata": {},
     "output_type": "execute_result"
    }
   ],
   "source": [
    "tile([0,0],(2,3))"
   ]
  },
  {
   "cell_type": "code",
   "execution_count": 13,
   "metadata": {},
   "outputs": [],
   "source": [
    "dataSetSize = group.shape[0]"
   ]
  },
  {
   "cell_type": "code",
   "execution_count": 19,
   "metadata": {},
   "outputs": [],
   "source": [
    "diffMat =tile([0.0,0.0],(dataSetSize,1)) - group"
   ]
  },
  {
   "cell_type": "code",
   "execution_count": 15,
   "metadata": {},
   "outputs": [
    {
     "data": {
      "text/plain": [
       "4"
      ]
     },
     "execution_count": 15,
     "metadata": {},
     "output_type": "execute_result"
    }
   ],
   "source": [
    "dataSetSize"
   ]
  },
  {
   "cell_type": "code",
   "execution_count": 20,
   "metadata": {},
   "outputs": [
    {
     "data": {
      "text/plain": [
       "array([[-1. , -1.1],\n       [-1.1, -1. ],\n       [ 0. ,  0. ],\n       [ 0. , -0.1]])"
      ]
     },
     "execution_count": 20,
     "metadata": {},
     "output_type": "execute_result"
    }
   ],
   "source": [
    "diffMat"
   ]
  },
  {
   "cell_type": "code",
   "execution_count": 21,
   "metadata": {},
   "outputs": [],
   "source": [
    "sqDiffMat = diffMat ** 2"
   ]
  },
  {
   "cell_type": "code",
   "execution_count": 22,
   "metadata": {},
   "outputs": [
    {
     "data": {
      "text/plain": [
       "array([[ 1.  ,  1.21],\n       [ 1.21,  1.  ],\n       [ 0.  ,  0.  ],\n       [ 0.  ,  0.01]])"
      ]
     },
     "execution_count": 22,
     "metadata": {},
     "output_type": "execute_result"
    }
   ],
   "source": [
    "sqDiffMat"
   ]
  },
  {
   "cell_type": "code",
   "execution_count": 23,
   "metadata": {},
   "outputs": [],
   "source": [
    "sqDistances = sqDiffMat.sum(axis=1)"
   ]
  },
  {
   "cell_type": "code",
   "execution_count": 24,
   "metadata": {},
   "outputs": [
    {
     "data": {
      "text/plain": [
       "array([ 2.21,  2.21,  0.  ,  0.01])"
      ]
     },
     "execution_count": 24,
     "metadata": {},
     "output_type": "execute_result"
    }
   ],
   "source": [
    "sqDistances"
   ]
  },
  {
   "cell_type": "code",
   "execution_count": 25,
   "metadata": {},
   "outputs": [],
   "source": [
    "distances = sqDistances ** 0.5\n",
    "sortedDistIndicies = distances.argsort()\n",
    "classCount = {}"
   ]
  },
  {
   "cell_type": "code",
   "execution_count": 26,
   "metadata": {},
   "outputs": [
    {
     "data": {
      "text/plain": [
       "array([ 1.48660687,  1.48660687,  0.        ,  0.1       ])"
      ]
     },
     "execution_count": 26,
     "metadata": {},
     "output_type": "execute_result"
    }
   ],
   "source": [
    "distances"
   ]
  },
  {
   "cell_type": "code",
   "execution_count": 27,
   "metadata": {},
   "outputs": [
    {
     "data": {
      "text/plain": [
       "array([2, 3, 0, 1], dtype=int64)"
      ]
     },
     "execution_count": 27,
     "metadata": {},
     "output_type": "execute_result"
    }
   ],
   "source": [
    "sortedDistIndicies"
   ]
  },
  {
   "cell_type": "code",
   "execution_count": 28,
   "metadata": {},
   "outputs": [],
   "source": [
    "for i in range(3):\n",
    "        voteIlabel = labels[sortedDistIndicies[i]]\n",
    "        classCount[voteIlabel] = classCount.get(voteIlabel, 0) + 1\n",
    "sortedClassCount = sorted(classCount.items(),key=operator.itemgetter(1),reverse=True)"
   ]
  },
  {
   "cell_type": "code",
   "execution_count": 29,
   "metadata": {},
   "outputs": [
    {
     "data": {
      "text/plain": [
       "[('B', 2), ('A', 1)]"
      ]
     },
     "execution_count": 29,
     "metadata": {},
     "output_type": "execute_result"
    }
   ],
   "source": [
    "sortedClassCount"
   ]
  },
  {
   "cell_type": "code",
   "execution_count": 31,
   "metadata": {},
   "outputs": [],
   "source": [
    "def flie2matrix(filename):\n",
    "    fr = open(filename)\n",
    "    arrayOLines = fr.readlines()\n",
    "    numberOfLines = len(arrayOLines)\n",
    "    returnMat = zeros((numberOfLines,3))\n",
    "    classlabelVector = []\n",
    "    index = 0\n",
    "    for line in arrayOLines:\n",
    "        line = line.strip()\n",
    "        listFromLine = line.split('\\t')\n",
    "        returnMat[index, :] = listFromLine[0:3]\n",
    "        classlabelVector.append(int(listFromLine[-1]))\n",
    "        index += 1\n",
    "    return returnMat, classlabelVector"
   ]
  },
  {
   "cell_type": "code",
   "execution_count": 33,
   "metadata": {},
   "outputs": [
    {
     "ename": "ValueError",
     "evalue": "invalid literal for int() with base 10: 'largeDoses'",
     "traceback": [
      "\u001b[0;31m---------------------------------------------------------------------------\u001b[0m",
      "\u001b[0;31mValueError\u001b[0m                                Traceback (most recent call last)",
      "\u001b[0;32m<ipython-input-33-9af89e0c2759>\u001b[0m in \u001b[0;36m<module>\u001b[0;34m()\u001b[0m\n\u001b[0;32m----> 1\u001b[0;31m \u001b[0mdatingDataMat\u001b[0m\u001b[1;33m,\u001b[0m \u001b[0mdatingLabels\u001b[0m \u001b[1;33m=\u001b[0m \u001b[0mflie2matrix\u001b[0m\u001b[1;33m(\u001b[0m\u001b[1;34m'datingTestSet.txt'\u001b[0m\u001b[1;33m)\u001b[0m\u001b[1;33m\u001b[0m\u001b[0m\n\u001b[0m",
      "\u001b[0;32m<ipython-input-31-be35c01bcd23>\u001b[0m in \u001b[0;36mflie2matrix\u001b[0;34m(filename)\u001b[0m\n\u001b[1;32m     10\u001b[0m         \u001b[0mlistFromLine\u001b[0m \u001b[1;33m=\u001b[0m \u001b[0mline\u001b[0m\u001b[1;33m.\u001b[0m\u001b[0msplit\u001b[0m\u001b[1;33m(\u001b[0m\u001b[1;34m'\\t'\u001b[0m\u001b[1;33m)\u001b[0m\u001b[1;33m\u001b[0m\u001b[0m\n\u001b[1;32m     11\u001b[0m         \u001b[0mreturnMat\u001b[0m\u001b[1;33m[\u001b[0m\u001b[0mindex\u001b[0m\u001b[1;33m,\u001b[0m \u001b[1;33m:\u001b[0m\u001b[1;33m]\u001b[0m \u001b[1;33m=\u001b[0m \u001b[0mlistFromLine\u001b[0m\u001b[1;33m[\u001b[0m\u001b[1;36m0\u001b[0m\u001b[1;33m:\u001b[0m\u001b[1;36m3\u001b[0m\u001b[1;33m]\u001b[0m\u001b[1;33m\u001b[0m\u001b[0m\n\u001b[0;32m---> 12\u001b[0;31m         \u001b[0mclasslabelVector\u001b[0m\u001b[1;33m.\u001b[0m\u001b[0mappend\u001b[0m\u001b[1;33m(\u001b[0m\u001b[0mint\u001b[0m\u001b[1;33m(\u001b[0m\u001b[0mlistFromLine\u001b[0m\u001b[1;33m[\u001b[0m\u001b[1;33m-\u001b[0m\u001b[1;36m1\u001b[0m\u001b[1;33m]\u001b[0m\u001b[1;33m)\u001b[0m\u001b[1;33m)\u001b[0m\u001b[1;33m\u001b[0m\u001b[0m\n\u001b[0m\u001b[1;32m     13\u001b[0m         \u001b[0mindex\u001b[0m \u001b[1;33m+=\u001b[0m \u001b[1;36m1\u001b[0m\u001b[1;33m\u001b[0m\u001b[0m\n\u001b[1;32m     14\u001b[0m     \u001b[1;32mreturn\u001b[0m \u001b[0mreturnMat\u001b[0m\u001b[1;33m,\u001b[0m \u001b[0mclasslabelVector\u001b[0m\u001b[1;33m\u001b[0m\u001b[0m\n",
      "\u001b[0;31mValueError\u001b[0m: invalid literal for int() with base 10: 'largeDoses'"
     ],
     "output_type": "error"
    }
   ],
   "source": [
    ""
   ]
  },
  {
   "cell_type": "code",
   "execution_count": 47,
   "metadata": {},
   "outputs": [],
   "source": [
    "def file2matrix(filename):\n",
    "    fr = open(filename)\n",
    "    numberOfLines = len(fr.readlines())         #get the number of lines in the file\n",
    "    returnMat = zeros((numberOfLines,3))        #prepare matrix to return\n",
    "    classLabelVector = []                       #prepare labels return   \n",
    "    fr = open(filename)\n",
    "    index = 0\n",
    "    for line in fr.readlines():\n",
    "        line = line.strip()\n",
    "        listFromLine = line.split('\\t')\n",
    "        returnMat[index,:] = listFromLine[0:3]\n",
    "        classLabelVector.append(int(listFromLine[-1]))\n",
    "        index += 1\n",
    "    return returnMat,classLabelVector"
   ]
  },
  {
   "cell_type": "code",
   "execution_count": 48,
   "metadata": {},
   "outputs": [],
   "source": [
    "datingDataMat, datingLabels = flie2matrix('datingTestSet2.txt')"
   ]
  },
  {
   "cell_type": "code",
   "execution_count": 37,
   "metadata": {},
   "outputs": [
    {
     "data": {
      "text/plain": [
       "array([[  4.09200000e+04,   8.32697600e+00,   9.53952000e-01],\n       [  1.44880000e+04,   7.15346900e+00,   1.67390400e+00],\n       [  2.60520000e+04,   1.44187100e+00,   8.05124000e-01],\n       ..., \n       [  2.65750000e+04,   1.06501020e+01,   8.66627000e-01],\n       [  4.81110000e+04,   9.13452800e+00,   7.28045000e-01],\n       [  4.37570000e+04,   7.88260100e+00,   1.33244600e+00]])"
      ]
     },
     "execution_count": 37,
     "metadata": {},
     "output_type": "execute_result"
    }
   ],
   "source": [
    "datingDataMat"
   ]
  },
  {
   "cell_type": "code",
   "execution_count": 38,
   "metadata": {},
   "outputs": [
    {
     "data": {
      "text/plain": [
       "[3, 2, 1, 1, 1, 1, 3, 3, 1, 3, 1, 1, 2, 1, 1, 1, 1, 1, 2, 3]"
      ]
     },
     "execution_count": 38,
     "metadata": {},
     "output_type": "execute_result"
    }
   ],
   "source": [
    "datingLabels[:20]"
   ]
  },
  {
   "cell_type": "code",
   "execution_count": 40,
   "metadata": {},
   "outputs": [
    {
     "data": {
      "text/plain": [
       "<matplotlib.figure.Figure at 0x175dcac7978>"
      ]
     },
     "execution_count": 0,
     "metadata": {},
     "output_type": "execute_result"
    },
    {
     "data": {
      "image/png": "[encoded data removed]",
      "text/plain": [
       "<matplotlib.figure.Figure at 0x175de46ddd8>"
      ]
     },
     "metadata": {},
     "output_type": "display_data"
    }
   ],
   "source": [
    "import matplotlib\n",
    "import matplotlib.pyplot as plt\n",
    "fig = plt.figure()\n",
    "ax = fig.add_subplot(1,1,1)\n",
    "ax.scatter(datingDataMat[:,1], datingDataMat[:,2])\n",
    "plt.show()"
   ]
  },
  {
   "cell_type": "code",
   "execution_count": 49,
   "metadata": {},
   "outputs": [],
   "source": [
    "import matplotlib\n",
    "import matplotlib.pyplot as plt\n",
    "fig = plt.figure()\n",
    "ax = fig.add_subplot(1,1,1)\n",
    "ax.scatter(datingDataMat[:,1], datingDataMat[:,2],15.0 * array(datingLabels), 20.0 * array(datingLabels))\n",
    "plt.show()"
   ]
  },
  {
   "cell_type": "code",
   "execution_count": 43,
   "metadata": {
    "collapsed": true
   },
   "outputs": [
    {
     "data": {
      "text/plain": [
       "array([  8.32697600e+00,   7.15346900e+00,   1.44187100e+00,\n         1.31473940e+01,   1.66978800e+00,   1.01417400e+01,\n         6.83079200e+00,   1.32763690e+01,   8.63157700e+00,\n         1.22731690e+01,   3.72349800e+00,   8.38587900e+00,\n         4.87543500e+00,   4.68009800e+00,   1.52995700e+01,\n         1.88946100e+00,   7.51675400e+00,   1.42391950e+01,\n         0.00000000e+00,   1.05285550e+01,   3.54026500e+00,\n         2.99155100e+00,   5.29786500e+00,   6.59380300e+00,\n         2.81676000e+00,   1.24582580e+01,   0.00000000e+00,\n         9.96864800e+00,   1.36483800e+00,   2.30453000e-01,\n         1.18654020e+01,   1.20460000e-01,   8.54520400e+00,\n         5.85664900e+00,   9.66561800e+00,   9.77876300e+00,\n         4.93297600e+00,   2.21624600e+00,   1.43056360e+01,\n         1.25918890e+01,   3.42464900e+00,   0.00000000e+00,\n         8.53382300e+00,   9.82952800e+00,   1.14921860e+01,\n         3.57096800e+00,   1.77122800e+00,   3.51392100e+00,\n         4.39817200e+00,   4.27682300e+00,   5.94601400e+00,\n         1.37989700e+01,   1.03935910e+01,   3.00757700e+00,\n         1.03193800e+00,   4.75121200e+00,   3.69226900e+00,\n         1.04480910e+01,   1.05857860e+01,   1.60450100e+00,\n         3.67949700e+00,   3.79514600e+00,   2.53188500e+00,\n         9.73334000e+00,   6.09306700e+00,   7.71296000e+00,\n         1.14703640e+01,   2.88652900e+00,   1.00543730e+01,\n         9.97247000e+00,   2.33578500e+00,   1.13751550e+01,\n         0.00000000e+00,   4.12678700e+00,   6.31952200e+00,\n         8.68052700e+00,   1.48563910e+01,   2.45428500e+00,\n         7.29220200e+00,   8.74513700e+00,   8.57900100e+00,\n         2.50730200e+00,   1.14154760e+01,   4.83854000e+00,\n         1.03395070e+01,   6.57374200e+00,   6.53939700e+00,\n         2.20915900e+00,   1.11963780e+01,   4.22959500e+00,\n         9.50594400e+00,   8.65272500e+00,   1.71011080e+01,\n         7.87183900e+00,   8.26213100e+00,   9.01563500e+00,\n         9.21535100e+00,   6.37500700e+00,   2.26201400e+00,\n         5.67711000e+00,   1.12930170e+01,   6.59004300e+00,\n         4.71196000e+00,   8.76809900e+00,   1.15025190e+01,\n         4.68281200e+00,   1.24465780e+01,   1.29083840e+01,\n         1.26011080e+01,   3.92945600e+00,   9.75150300e+00,\n         3.04376700e+00,   4.39152200e+00,   1.16952760e+01,\n         7.87974200e+00,   5.61316300e+00,   9.14017200e+00,\n         4.25864400e+00,   6.79983100e+00,   8.75275800e+00,\n         1.12303300e+00,   1.08332480e+01,   3.05161800e+00,\n         5.30840900e+00,   1.84179200e+00,   2.26197800e+00,\n         1.15736960e+01,   8.03876400e+00,   1.07340070e+01,\n         9.66190900e+00,   9.00585000e+00,   0.00000000e+00,\n         5.75714000e+00,   9.16465600e+00,   1.31834000e+00,\n         1.40755970e+01,   1.01075500e+01,   7.96029300e+00,\n         6.31729200e+00,   1.26641940e+01,   2.90664400e+00,\n         2.38824100e+00,   6.02447100e+00,   7.22676400e+00,\n         4.18399700e+00,   1.18502110e+01,   1.16617970e+01,\n         3.57496700e+00,   0.00000000e+00,   7.93765700e+00,\n         3.36502700e+00,   0.00000000e+00,   1.38606720e+01,\n         1.03067140e+01,   7.22800200e+00,   4.50874000e+00,\n         3.66328000e-01,   3.29944400e+00,   5.73287000e-01,\n         9.18373800e+00,   7.84264600e+00,   4.75096400e+00,\n         1.14387020e+01,   8.24306300e+00,   7.94901700e+00,\n         7.87547700e+00,   9.56908700e+00,   7.75010300e+00,\n         0.00000000e+00,   3.39603000e+00,   1.19160910e+01,\n         4.60758000e-01,   1.30875660e+01,   4.58901600e+00,\n         8.39721700e+00,   5.56277200e+00,   1.09051590e+01,\n         1.31144100e+00,   1.06471700e+01,   0.00000000e+00,\n         8.50302500e+00,   4.36880000e-01,   6.12786700e+00,\n         1.21124920e+01,   1.26496800e+00,   6.06756800e+00,\n         8.01096400e+00,   3.79108400e+00,   1.17731950e+01,\n         8.33958800e+00,   2.56309200e+00,   5.95421600e+00,\n         9.28837400e+00,   3.97679600e+00,   8.58522700e+00,\n         1.27194600e+00,   0.00000000e+00,   0.00000000e+00,\n         1.15212980e+01,   1.13944700e+00,   5.69909000e+00,\n         2.44937800e+00,   0.00000000e+00,   3.16836500e+00,\n         1.04286100e+01,   2.94307000e+00,   1.04413480e+01,\n         1.24787640e+01,   5.85690200e+00,   2.47642000e+00,\n         1.82663700e+00,   4.32445100e+00,   1.37608500e+00,\n         5.34246200e+00,   1.18355210e+01,   1.24236870e+01,\n         1.21612730e+01,   8.14836000e+00,   1.53106700e+00,\n         3.20091200e+00,   8.86269100e+00,   6.37055100e+00,\n         2.46884100e+00,   1.10542120e+01,   2.03708000e+00,\n         1.33640300e+01,   1.02491350e+01,   1.04642520e+01,\n         9.42457400e+00,   4.45890200e+00,   0.00000000e+00,\n         9.68608200e+00,   1.36494020e+01,   1.31811480e+01,\n         3.87747200e+00,   1.41395200e+00,   4.24898600e+00,\n         8.77918300e+00,   4.15625200e+00,   5.58001800e+00,\n         1.50404400e+01,   1.27938700e+01,   3.25487700e+00,\n         1.07256070e+01,   8.25647300e+00,   8.03389200e+00,\n         1.07025320e+01,   5.06299600e+00,   1.07722860e+01,\n         1.89235400e+00,   1.01996600e+00,   1.55460430e+01,\n         1.16382050e+01,   3.42788600e+00,   1.12461740e+01,\n         0.00000000e+00,   0.00000000e+00,   8.24255300e+00,\n         8.70006000e+00,   8.12344000e-01,   2.44823500e+00,\n         1.32300780e+01,   2.36133000e-01,   1.11558260e+01,\n         1.10296360e+01,   2.90118100e+00,   3.92459400e+00,\n         2.52480600e+00,   3.52747400e+00,   3.38428100e+00,\n         0.00000000e+00,   1.18988900e+01,   3.52989200e+00,\n         1.14426770e+01,   1.03081450e+01,   8.54052900e+00,\n         7.15694900e+00,   7.20675000e-01,   2.29405000e-01,\n         3.39933100e+00,   6.15723900e+00,   1.23969800e+00,\n         6.03685400e+00,   5.25866500e+00,   1.23930010e+01,\n         9.62761300e+00,   1.11304530e+01,   8.84259500e+00,\n         1.06900100e+01,   5.71471800e+00,   3.05250500e+00,\n         0.00000000e+00,   9.94530700e+00,   2.71972300e+00,\n         1.11540550e+01,   2.68791800e+00,   1.00378470e+01,\n         1.24047620e+01,   1.02373050e+01,   4.74539200e+00,\n         4.63946100e+00,   3.14931000e+00,   1.34068750e+01,\n         6.06866800e+00,   9.47702200e+00,   3.89762000e+00,\n         5.46361500e+00,   3.36926700e+00,   5.23456200e+00,\n         0.00000000e+00,   1.29790690e+01,   5.37656400e+00,\n         1.35279100e+01,   2.19688900e+00,   1.06917480e+01,\n         1.65924200e+00,   8.36966700e+00,   1.31571970e+01,\n         8.19966700e+00,   4.44166900e+00,   9.84649200e+00,\n         1.95400000e-02,   8.25377400e+00,   6.03862000e+00,\n         6.09158700e+00,   8.98682000e+00,   1.15084730e+01,\n         8.80773400e+00,   0.00000000e+00,   8.88920200e+00,\n         3.17811700e+00,   7.01379500e+00,   9.60501400e+00,\n         1.23054000e+00,   1.04128110e+01,   0.00000000e+00,\n         9.69999100e+00,   0.00000000e+00,   4.45529300e+00,\n         3.02097700e+00,   8.09927800e+00,   1.15776400e+00,\n         1.01053960e+01,   1.12301480e+01,   9.07005800e+00,\n         5.66460000e-01,   0.00000000e+00,   8.95636900e+00,\n         1.52305700e+00,   2.74900600e+00,   9.23539300e+00,\n         1.05555730e+01,   6.95637200e+00,   6.36281000e-01,\n         3.57473700e+00,   9.03248600e+00,   5.95899300e+00,\n         2.43530000e+00,   1.05397310e+01,   7.64670200e+00,\n         2.09193490e+01,   1.42472600e+00,   6.74866300e+00,\n         2.28916700e+00,   5.54837700e+00,   6.05722700e+00,\n         1.08285950e+01,   1.13181600e+01,   1.32653110e+01,\n         0.00000000e+00,   6.51713300e+00,   4.93437400e+00,\n         1.01517380e+01,   2.42578100e+00,   9.77896200e+00,\n         1.22199500e+01,   7.39415100e+00,   8.51853500e+00,\n         2.79870000e+00,   6.37930000e-01,   1.07504900e+01,\n         6.25382000e-01,   1.00279680e+01,   9.81734700e+00,\n         6.46828000e-01,   3.34711100e+00,   1.18168920e+01,\n         0.00000000e+00,   1.09456660e+01,   1.02447060e+01,\n         2.57980100e+00,   2.63041000e+00,   1.17462000e+01,\n         8.10423200e+00,   1.24097430e+01,   1.21678440e+01,\n         3.19840800e+00,   1.60555130e+01,   7.13865900e+00,\n         4.83104100e+00,   1.00828900e+01,   1.00668670e+01,\n         8.12953800e+00,   3.01246300e+00,   3.72039100e+00,\n         7.73493000e-01,   1.09629410e+01,   1.77621000e-01,\n         3.08585300e+00,   8.42678100e+00,   1.82592700e+00,\n         2.18515500e+00,   7.18459500e+00,   0.00000000e+00,\n         8.90175200e+00,   2.45149700e+00,   3.21363100e+00,\n         3.97473900e+00,   9.60130600e+00,   8.36389700e+00,\n         6.38148400e+00,   0.00000000e+00,   9.60983600e+00,\n         9.90474100e+00,   7.18580700e+00,   5.46670300e+00,\n         0.00000000e+00,   4.57544300e+00,   3.27707600e+00,\n         1.02466230e+01,   2.34173500e+00,   3.20104600e+00,\n         6.06601300e+00,   8.82937900e+00,   1.58330480e+01,\n         1.35167110e+01,   6.64284000e-01,   6.32513900e+00,\n         8.67749900e+00,   8.18800500e+00,   9.41426300e+00,\n         9.19654700e+00,   1.02029680e+01,   2.11943900e+00,\n         1.36350780e+01,   8.34430000e-02,   9.14909600e+00,\n         1.93380300e+00,   1.41155440e+01,   8.93373600e+00,\n         2.66125400e+00,   9.88432000e-01,   2.06374100e+00,\n         2.22059000e+00,   6.42484900e+00,   1.15615300e+00,\n         3.03272000e+00,   3.07682800e+00,   0.00000000e+00,\n         7.75048000e+00,   1.09581350e+01,   1.02220180e+01,\n         2.36798800e+00,   7.68605400e+00,   1.14648790e+01,\n         1.10757350e+01,   3.54398900e+00,   8.12388900e+00,\n         4.33176900e+00,   1.20865000e-01,   6.11610900e+00,\n         7.47453400e+00,   8.81945400e+00,   6.80214400e+00,\n         1.26663250e+01,   8.63618000e+00,   1.17309910e+01,\n         8.13244900e+00,   1.02965890e+01,   7.58390600e+00,\n         9.77780600e+00,   8.83354600e+00,   4.90789900e+00,\n         8.36273600e+00,   9.08472600e+00,   1.41641410e+01,\n         9.08068300e+00,   6.52276700e+00,   3.69034200e+00,\n         3.56370600e+00,   1.06587000e+00,   6.68379600e+00,\n         1.71287400e+00,   1.31099290e+01,   1.13279100e+01,\n         4.54571100e+00,   3.36788900e+00,   8.32622400e+00,\n         8.97833900e+00,   5.65582600e+00,   8.85531200e+00,\n         6.64956800e+00,   3.96632500e+00,   1.92404500e+00,\n         6.00481200e+00,   0.00000000e+00,   9.92301800e+00,\n         2.38908400e+00,   1.36631890e+01,   1.14349760e+01,\n         3.58270000e-01,   9.59887300e+00,   6.37527500e+00,\n         1.15805320e+01,   5.31932400e+00,   4.32403100e+00,\n         2.35837000e+00,   0.00000000e+00,   1.28243760e+01,\n         1.58724700e+00,   8.51032400e+00,   1.04288840e+01,\n         8.34661800e+00,   7.54144400e+00,   2.54094600e+00,\n         9.47304700e+00,   3.52284000e-01,   0.00000000e+00,\n         1.24051710e+01,   4.12677500e+00,   3.40870000e-02,\n         1.17763400e+00,   0.00000000e+00,   9.94909000e-01,\n         1.10536640e+01,   0.00000000e+00,   2.49501100e+00,\n         1.15168310e+01,   9.21321500e+00,   5.33286500e+00,\n         0.00000000e+00,   0.00000000e+00,   1.26400620e+01,\n         2.69314200e+00,   3.32896900e+00,   7.19316600e+00,\n         6.61551200e+00,   8.00056700e+00,   4.01754100e+00,\n         1.32458590e+01,   5.97061600e+00,   1.16687190e+01,\n         4.28323700e+00,   1.07429630e+01,   1.23266720e+01,\n         0.00000000e+00,   0.00000000e+00,   1.06020950e+01,\n         1.08618590e+01,   1.22909400e+00,   4.10392000e-01,\n         1.45527110e+01,   1.41780430e+01,   1.41362600e+01,\n         9.35340000e-02,   1.09290210e+01,   1.14329190e+01,\n         9.13452700e+00,   5.07143200e+00,   1.14602540e+01,\n         1.16200390e+01,   4.02207900e+00,   3.05784200e+00,\n         7.78216900e+00,   7.98174100e+00,   4.60136300e+00,\n         2.59556400e+00,   1.00490770e+01,   3.26544400e+00,\n         1.17802820e+01,   3.07597500e+00,   1.79530700e+00,\n         1.11069790e+01,   5.99441300e+00,   9.70606200e+00,\n         1.05829920e+01,   7.03826600e+00,   2.37710000e-02,\n         1.28239820e+01,   3.61777000e+00,   8.34668400e+00,\n         6.10431700e+00,   1.62077760e+01,   6.40196900e+00,\n         2.29869600e+00,   7.66151500e+00,   6.35360800e+00,\n         1.04427800e+01,   3.83450900e+00,   1.09985870e+01,\n         2.69593500e+00,   3.35664600e+00,   1.46778360e+01,\n         1.55193400e+00,   2.46473900e+00,   1.53321600e+00,\n         1.24739210e+01,   6.49159600e+00,   1.05062760e+01,\n         4.38038800e+00,   1.36709880e+01,   8.31759900e+00,\n         0.00000000e+00,   0.00000000e+00,   1.00957990e+01,\n         8.60695000e-01,   1.55756400e+00,   1.00727790e+01,\n         0.00000000e+00,   7.14081700e+00,   1.13845480e+01,\n         3.21456800e+00,   1.17206550e+01,   6.37447500e+00,\n         5.74968400e+00,   3.87180800e+00,   8.33630900e+00,\n         9.71044200e+00,   1.53261100e+00,   9.78578500e+00,\n         2.63362700e+00,   9.23893500e+00,   1.20565600e+00,\n         3.12490900e+00,   7.93548900e+00,   1.27466360e+01,\n         1.07325630e+01,   3.97740300e+00,   4.19442600e+00,\n         9.61028600e+00,   4.79755500e+00,   1.61527900e+00,\n         4.61477100e+00,   0.00000000e+00,   6.08457000e-01,\n         6.55823900e+00,   1.23151160e+01,   7.01497300e+00,\n         8.82230400e+00,   1.00867960e+01,   7.24161400e+00,\n         4.60239500e+00,   7.43492100e+00,   1.04675700e+01,\n         9.94812700e+00,   2.47852900e+00,   5.93854500e+00,\n         0.00000000e+00,   5.55918100e+00,   9.77665400e+00,\n         3.09205600e+00,   0.00000000e+00,   4.45949500e+00,\n         8.33430600e+00,   1.12266540e+01,   3.90473700e+00,\n         7.03820500e+00,   9.83612000e+00,   1.99097600e+00,\n         9.00530200e+00,   1.77251000e+00,   4.58674000e-01,\n         1.00039190e+01,   5.20807000e-01,   1.06782140e+01,\n         4.42599200e+00,   1.20353550e+01,   1.06067320e+01,\n         1.56865300e+00,   2.54543400e+00,   1.02640620e+01,\n         9.86627600e+00,   1.42704000e-01,   9.85327000e+00,\n         6.59660400e+00,   2.60228700e+00,   1.04117760e+01,\n         7.08344900e+00,   2.08006800e+00,   5.22844000e-01,\n         1.03620000e+01,   3.41296700e+00,   6.79654800e+00,\n         4.09203500e+00,   2.76381100e+00,   1.25474390e+01,\n         5.70805200e+00,   4.55802500e+00,   1.16423070e+01,\n         3.22244300e+00,   4.73615600e+00,   1.08395260e+01,\n         4.19479100e+00,   1.49362590e+01,   3.31069900e+00,\n         2.97193100e+00,   9.26166700e+00,   7.79183300e+00,\n         1.48047000e+00,   3.67728700e+00,   2.20296700e+00,\n         5.79673500e+00,   3.06333300e+00,   1.12330940e+01,\n         1.96557000e+00,   8.61671900e+00,   6.60998900e+00,\n         1.71263900e+00,   1.01174450e+01,   0.00000000e+00,\n         9.82477700e+00,   1.65308900e+00,   1.81788220e+01,\n         6.78112600e+00,   8.20675000e+00,   1.00818530e+01,\n         6.28874200e+00,   3.69593700e+00,   6.72615100e+00,\n         1.29699990e+01,   2.66139000e+00,   7.07276400e+00,\n         9.12336600e+00,   3.74394600e+00,   2.34130000e+00,\n         5.41913000e-01,   2.31082800e+00,   6.22659700e+00,\n         7.27787600e+00,   0.00000000e+00,   7.21822100e+00,\n         8.77712900e+00,   2.81342800e+00,   2.26876600e+00,\n         6.28362700e+00,   7.52008100e+00,   1.17392250e+01,\n         3.74688300e+00,   1.20898350e+01,   1.23104040e+01,\n         0.00000000e+00,   2.72880000e+00,   1.08143420e+01,\n         1.21702680e+01,   6.69837100e+00,   3.63267200e+00,\n         1.00599910e+01,   1.88767400e+00,   8.22912500e+00,\n         7.81708200e+00,   1.22772300e+01,   1.00553370e+01,\n         3.59600200e+00,   2.75553000e+00,   7.78099100e+00,\n         9.37050000e-02,   8.48156700e+00,   3.86558400e+00,\n         9.68370900e+00,   1.06172550e+01,   7.20321600e+00,\n         7.60141400e+00,   1.38610700e+00,   9.12925300e+00,\n         1.36344700e+00,   3.18139900e+00,   1.33654140e+01,\n         4.20771700e+00,   4.08839500e+00,   3.32737100e+00,\n         1.30332300e+00,   7.99927900e+00,   2.21748800e+00,\n         7.75180800e+00,   1.41493050e+01,   8.76572100e+00,\n         3.40899600e+00,   1.25102100e+00,   6.16061900e+00,\n         1.03453800e+00,   0.00000000e+00,   2.35505100e+00,\n         6.61454300e+00,   1.02450620e+01,   3.46707400e+00,\n         7.48767800e+00,   4.62411500e+00,   8.99595700e+00,\n         1.15644760e+01,   3.44094800e+00,   1.67360300e+00,\n         4.71934100e+00,   1.03047980e+01,   2.08691500e+00,\n         6.33822000e+00,   8.25492600e+00,   1.60671080e+01,\n         1.72320100e+00,   3.78504500e+00,   2.55756100e+00,\n         9.85222000e+00,   3.67914700e+00,   9.78968100e+00,\n         1.49589980e+01,   1.11821480e+01,   7.52853300e+00,\n         5.25380200e+00,   1.39467520e+01,   1.55572630e+01,\n         1.24835500e+01,   2.31730200e+00,   1.00697240e+01,\n         5.79223100e+00,   4.13843500e+00,   1.29295170e+01,\n         9.37823800e+00,   8.36136200e+00,   7.93940600e+00,\n         1.07353840e+01,   1.15927230e+01,   1.00983560e+01,\n         9.29902500e+00,   1.11582970e+01,   1.61439000e+01,\n         1.09717000e+01,   0.00000000e+00,   3.17896100e+00,\n         1.76253500e+01,   1.99583300e+00,   1.06404670e+01,\n         9.62833900e+00,   4.66266400e+00,   5.75404700e+00,\n         0.00000000e+00,   9.33433200e+00,   3.84616200e+00,\n         1.06850840e+01,   4.75213400e+00,   6.97630000e-01,\n         1.03658360e+01,   4.61478000e-01,   1.13395370e+01,\n         5.42028000e+00,   3.46995500e+00,   8.51706700e+00,\n         8.30651200e+00,   2.62869000e+00,   0.00000000e+00,\n         0.00000000e+00,   7.29876700e+00,   7.33131900e+00,\n         9.39226900e+00,   5.54120100e+00,   1.51494600e+01,\n         5.51518900e+00,   7.72889800e+00,   1.13187850e+01,\n         3.57470900e+00,   7.35096500e+00,   7.12236300e+00,\n         1.82841200e+00,   1.01179890e+01,   1.13098970e+01,\n         8.34203400e+00,   2.41714000e-01,   1.04826190e+01,\n         9.28951000e+00,   4.26941900e+00,   0.00000000e+00,\n         8.17119000e-01,   1.50839400e+00,   9.35991800e+00,\n         1.00523330e+01,   1.11116600e+01,   1.12659710e+01,\n         1.03838300e+01,   3.87856900e+00,   1.36792370e+01,\n         1.05268460e+01,   0.00000000e+00,   4.10672700e+00,\n         8.11885600e+00,   7.79687400e+00,   2.78966900e+00,\n         6.22696200e+00,   1.01695480e+01,   0.00000000e+00,\n         7.51335300e+00,   8.24079300e+00,   1.46127970e+01,\n         3.56297600e+00,   3.23048200e+00,   3.61254800e+00,\n         0.00000000e+00,   3.93129900e+00,   1.47523420e+01,\n         1.02618870e+01,   2.78726600e+00,   1.51123190e+01,\n         5.18455300e+00,   3.86835900e+00,   3.50796500e+00,\n         1.10192540e+01,   3.81238700e+00,   1.10567840e+01,\n         8.82688000e+00,   1.11738610e+01,   1.15064650e+01,\n         7.79813800e+00,   1.01550810e+01,   1.06452750e+01,\n         9.66320000e+00,   1.07904040e+01,   2.81053400e+00,\n         9.82599900e+00,   1.42131600e+00,   1.11232190e+01,\n         1.34022060e+01,   1.21225500e+00,   1.56844600e+00,\n         3.34347300e+00,   5.40015500e+00,   3.81875400e+00,\n         7.97384500e+00,   9.07882400e+00,   1.53467000e-01,\n         8.32516700e+00,   7.09208900e+00,   5.19248500e+00,\n         1.03407910e+01,   2.07716900e+00,   1.01519660e+01,\n         4.68260000e-02,   1.12218740e+01,   1.44979630e+01,\n         3.55450800e+00,   3.52267300e+00,   1.45316550e+01,\n         3.02752800e+00,   1.84596700e+00,   1.02261640e+01,\n         1.09659260e+01,   2.12992100e+00,   0.00000000e+00,\n         9.48900500e+00,   0.00000000e+00,   0.00000000e+00,\n         6.55667600e+00,   9.95958800e+00,   7.43605600e+00,\n         4.04888000e-01,   9.95294200e+00,   1.56002520e+01,\n         2.72384600e+00,   5.13866000e-01,   0.00000000e+00,\n         7.28060200e+00,   9.16197800e+00,   9.91725000e-01,\n         7.39838000e+00,   1.21497470e+01,   9.14967800e+00,\n         9.66657600e+00,   3.62011000e+00,   5.23880000e+00,\n         1.47157820e+01,   1.44457400e+01,   1.36095280e+01,\n         3.14158500e+00,   0.00000000e+00,   4.54750000e-01,\n         5.10310000e-01,   3.86417100e+00,   6.72402100e+00,\n         4.28937500e+00,   0.00000000e+00,   3.73361700e+00,\n         2.00258900e+00,   2.50262700e+00,   6.38212900e+00,\n         8.54674100e+00,   2.69497700e+00,   3.95125600e+00,\n         9.85618300e+00,   2.06896200e+00,   3.41062700e+00,\n         9.97471500e+00,   1.06501020e+01,   9.13452800e+00,\n         7.88260100e+00])"
      ]
     },
     "execution_count": 43,
     "metadata": {},
     "output_type": "execute_result"
    }
   ],
   "source": [
    "datingDataMat[:,1]"
   ]
  },
  {
   "cell_type": "code",
   "execution_count": 42,
   "metadata": {},
   "outputs": [
    {
     "data": {
      "text/plain": [
       "array([[  4.09200000e+04,   8.32697600e+00,   9.53952000e-01],\n       [  1.44880000e+04,   7.15346900e+00,   1.67390400e+00],\n       [  2.60520000e+04,   1.44187100e+00,   8.05124000e-01],\n       ..., \n       [  2.65750000e+04,   1.06501020e+01,   8.66627000e-01],\n       [  4.81110000e+04,   9.13452800e+00,   7.28045000e-01],\n       [  4.37570000e+04,   7.88260100e+00,   1.33244600e+00]])"
      ]
     },
     "execution_count": 42,
     "metadata": {},
     "output_type": "execute_result"
    }
   ],
   "source": [
    "datingDataMat"
   ]
  },
  {
   "cell_type": "code",
   "execution_count": 50,
   "metadata": {
    "collapsed": true
   },
   "outputs": [
    {
     "data": {
      "text/plain": [
       "array([  9.53952000e-01,   1.67390400e+00,   8.05124000e-01,\n         4.28964000e-01,   1.34296000e-01,   1.03295500e+00,\n         1.21319200e+00,   5.43880000e-01,   7.49278000e-01,\n         1.50805300e+00,   8.31917000e-01,   1.66948500e+00,\n         7.28658000e-01,   6.25224000e-01,   3.31351000e-01,\n         1.91283000e-01,   1.26916400e+00,   2.61333000e-01,\n         1.25018500e+00,   1.30484400e+00,   8.22483000e-01,\n         8.33920000e-01,   6.38306000e-01,   1.87108000e-01,\n         1.68620900e+00,   6.49617000e-01,   1.65641800e+00,\n         7.31232000e-01,   6.40103000e-01,   1.15199600e+00,\n         8.82810000e-01,   1.35201300e+00,   1.34042900e+00,\n         1.60006000e-01,   7.78626000e-01,   1.08410300e+00,\n         6.32026000e-01,   5.87095000e-01,   6.32317000e-01,\n         6.86581000e-01,   1.00450400e+00,   1.47573000e-01,\n         2.05324000e-01,   2.38620000e-01,   2.63499000e-01,\n         8.32254000e-01,   2.07612000e-01,   9.91854000e-01,\n         9.75024000e-01,   1.17487400e+00,   1.61424400e+00,\n         7.24375000e-01,   1.66372400e+00,   2.97302000e-01,\n         4.86174000e-01,   6.46930000e-02,   1.65511300e+00,\n         2.67652000e-01,   3.29557000e-01,   6.90640000e-02,\n         9.61466000e-01,   6.96694000e-01,   1.65917300e+00,\n         9.77746000e-01,   1.41379800e+00,   1.05492700e+00,\n         7.60461000e-01,   9.34416000e-01,   1.13835100e+00,\n         8.81876000e-01,   1.36614500e+00,   1.52862600e+00,\n         6.05619000e-01,   3.57501000e-01,   1.05860200e+00,\n         8.69550000e-02,   1.12982300e+00,   2.22380000e-01,\n         5.48607000e-01,   8.57348000e-01,   6.83048000e-01,\n         8.69177000e-01,   1.50546600e+00,   1.68089200e+00,\n         5.83646000e-01,   1.15143300e+00,   4.62065000e-01,\n         7.23567000e-01,   8.36326000e-01,   1.28253000e-01,\n         5.27300000e-03,   1.34893400e+00,   4.90712000e-01,\n         7.17662000e-01,   1.36164600e+00,   1.65855500e+00,\n         8.06762000e-01,   3.36780000e-02,   1.02216900e+00,\n         7.09469000e-01,   2.07976000e-01,   1.35311700e+00,\n         1.94167000e-01,   1.10804100e+00,   5.45097000e-01,\n         5.78112000e-01,   3.00754000e-01,   1.65772200e+00,\n         9.74527000e-01,   2.54660000e-02,   1.18205000e+00,\n         8.88168000e-01,   8.07100000e-01,   6.79015000e-01,\n         1.54263000e-01,   9.33632000e-01,   8.51300000e-01,\n         2.06892000e-01,   1.22117100e+00,   4.84418000e-01,\n         1.18035200e+00,   1.58542600e+00,   2.67810000e-02,\n         3.06830000e-02,   2.80990000e-02,   1.60560300e+00,\n         1.06134700e+00,   1.08391000e+00,   1.03715000e-01,\n         3.50772000e-01,   5.48737000e-01,   5.39131000e-01,\n         1.06237300e+00,   1.62456500e+00,   1.43624300e+00,\n         6.95934000e-01,   1.30839800e+00,   1.21976000e+00,\n         1.82090000e-02,   5.95653000e-01,   5.81657000e-01,\n         9.13938000e-01,   4.86215000e-01,   1.25532900e+00,\n         1.27529000e+00,   1.09698100e+00,   1.16793500e+00,\n         4.94666000e-01,   1.07475000e-01,   9.04799000e-01,\n         1.01408500e+00,   3.67491000e-01,   1.29327000e+00,\n         1.21159400e+00,   6.70670000e-01,   1.03619200e+00,\n         1.63652000e-01,   5.75152000e-01,   6.07915000e-01,\n         1.22800000e-02,   1.06063600e+00,   5.58240000e-01,\n         1.55633400e+00,   1.12276800e+00,   2.71865000e-01,\n         2.27085000e-01,   3.64856000e-01,   8.69094000e-01,\n         1.51529300e+00,   6.33977000e-01,   2.52940000e-02,\n         6.89586000e-01,   4.76002000e-01,   1.67260000e+00,\n         1.53410300e+00,   1.68938800e+00,   6.19091000e-01,\n         1.16988700e+00,   9.80141000e-01,   4.81918000e-01,\n         8.30861000e-01,   1.39531400e+00,   1.10217900e+00,\n         3.59680000e-01,   1.14158200e+00,   1.32704700e+00,\n         1.68164800e+00,   3.04072000e-01,   1.26262100e+00,\n         1.44335700e+00,   1.46401300e+00,   9.53782000e-01,\n         7.67318000e-01,   1.04310900e+00,   1.45570800e+00,\n         7.96506000e-01,   2.42778000e-01,   8.97490000e-02,\n         3.00860000e-01,   4.15373000e-01,   1.39189200e+00,\n         1.32256000e+00,   1.22838000e+00,   5.39930000e-02,\n         1.12625700e+00,   1.44681600e+00,   9.75283000e-01,\n         1.62872600e+00,   3.63883000e-01,   9.60750000e-02,\n         8.11457000e-01,   3.28235000e-01,   1.17835900e+00,\n         3.94527000e-01,   6.93301000e-01,   1.42426400e+00,\n         7.11310000e-02,   1.64919400e+00,   1.54975600e+00,\n         3.09679000e-01,   5.30506000e-01,   3.69350000e-01,\n         1.45060000e-01,   1.41508000e-01,   7.15243000e-01,\n         5.49972000e-01,   1.92735000e-01,   1.66976700e+00,\n         1.37250000e-02,   2.68444000e-01,   5.75976000e-01,\n         1.02980800e+00,   1.05261800e+00,   2.73014000e-01,\n         4.01600000e-01,   4.51380000e-01,   1.43024900e+00,\n         8.45947000e-01,   9.71090000e-02,   1.58401000e-01,\n         1.36689800e+00,   1.30732300e+00,   6.69546000e-01,\n         5.88588000e-01,   7.65891000e-01,   1.61856200e+00,\n         2.04792000e-01,   1.13255500e+00,   6.68721000e-01,\n         8.37028000e-01,   3.72320000e-01,   7.29742000e-01,\n         4.09125000e-01,   9.75616000e-01,   1.47558600e+00,\n         6.45045000e-01,   1.42401700e+00,   2.79069000e-01,\n         1.01807000e-01,   2.60334000e-01,   1.17682900e+00,\n         6.16147000e-01,   3.40840000e-01,   3.35131000e-01,\n         5.05769000e-01,   1.64663300e+00,   1.14312000e+00,\n         1.29284800e+00,   1.44915800e+00,   8.89268000e-01,\n         1.10759200e+00,   4.06441000e-01,   1.37584400e+00,\n         6.96919000e-01,   4.22722000e-01,   7.27373000e-01,\n         1.69168200e+00,   8.47574000e-01,   1.03860300e+00,\n         7.75010000e-02,   5.80133000e-01,   7.19989000e-01,\n         1.65480000e-02,   9.33722000e-01,   1.57128100e+00,\n         9.35842000e-01,   5.97610000e-01,   3.49768000e-01,\n         1.45659500e+00,   1.67478000e+00,   1.33580400e+00,\n         5.90250000e-02,   1.28795200e+00,   1.14214800e+00,\n         1.60848600e+00,   6.60836000e-01,   9.62245000e-01,\n         1.11208000e+00,   6.33422000e-01,   6.62520000e-01,\n         1.56943100e+00,   6.39669000e-01,   1.63919400e+00,\n         8.81241000e-01,   8.99002000e-01,   5.60201000e-01,\n         1.20367700e+00,   1.57504300e+00,   8.25954000e-01,\n         7.22170000e-01,   5.04068000e-01,   5.57476000e-01,\n         1.58673200e+00,   7.84587000e-01,   7.50900000e-03,\n         4.47066000e-01,   6.56697000e-01,   1.43248000e-01,\n         9.08508000e-01,   4.39381000e-01,   6.44523000e-01,\n         9.77949000e-01,   7.48700000e-01,   1.50964600e+00,\n         1.69464100e+00,   1.22516500e+00,   1.62429600e+00,\n         7.13922000e-01,   8.16676000e-01,   1.66541400e+00,\n         5.42752000e-01,   1.39909000e-01,   6.52540000e-02,\n         1.33167400e+00,   8.90803000e-01,   5.67161000e-01,\n         1.22011000e-01,   6.11910000e-02,   2.72135000e-01,\n         1.50280300e+00,   2.16317000e-01,   1.60321700e+00,\n         1.21067000e-01,   4.08603000e-01,   1.13790000e-02,\n         4.78837000e-01,   4.87300000e-01,   1.19348400e+00,\n         6.20528000e-01,   1.69855000e-01,   1.88350000e-01,\n         4.03927000e-01,   1.51930800e+00,   1.27398400e+00,\n         7.51630000e-02,   1.46180900e+00,   2.30120000e-02,\n         1.21174400e+00,   1.63824800e+00,   5.65130000e-02,\n         6.44571000e-01,   8.38447000e-01,   8.90223000e-01,\n         1.14881000e-01,   4.02238000e-01,   4.32666000e-01,\n         5.59955000e-01,   2.71094000e-01,   6.33903000e-01,\n         1.49671500e+00,   4.02519000e-01,   1.52002800e+00,\n         8.96433000e-01,   1.55946700e+00,   1.19549800e+00,\n         6.57677000e-01,   9.54434000e-01,   7.42546000e-01,\n         6.62632000e-01,   6.17373000e-01,   9.74150000e-02,\n         1.40969000e-01,   2.82787000e-01,   3.64197000e-01,\n         1.26606900e+00,   9.14294000e-01,   1.93798000e-01,\n         1.48019800e+00,   9.93219000e-01,   2.80539000e-01,\n         1.14917200e+00,   9.88690000e-02,   1.69551700e+00,\n         1.32627700e+00,   7.90295000e-01,   1.32808600e+00,\n         2.99287000e-01,   5.41052000e-01,   1.58481000e-01,\n         7.61419000e-01,   1.37361100e+00,   7.88470000e-01,\n         3.29913000e-01,   1.13810800e+00,   8.45974000e-01,\n         1.14825600e+00,   1.03732400e+00,   1.62614000e-01,\n         9.67899000e-01,   2.02558000e-01,   1.12834700e+00,\n         1.01017300e+00,   1.26133800e+00,   1.16525000e-01,\n         1.03352700e+00,   1.35879500e+00,   4.32044000e-01,\n         7.23929000e-01,   6.19232000e-01,   4.45341000e-01,\n         1.36501900e+00,   1.40391400e+00,   1.43810500e+00,\n         9.85862000e-01,   1.48910200e+00,   1.21657100e+00,\n         9.15898000e-01,   5.35671000e-01,   1.01086800e+00,\n         1.23963400e+00,   1.06023500e+00,   4.98843000e-01,\n         1.20927000e-01,   8.95657000e-01,   1.56824500e+00,\n         1.22015300e+00,   1.11675500e+00,   6.05109000e-01,\n         3.44373000e-01,   9.64896000e-01,   3.84030000e-01,\n         1.13825300e+00,   4.52363000e-01,   1.48166100e+00,\n         8.58314000e-01,   7.01669000e-01,   1.05144600e+00,\n         1.37438800e+00,   6.76198000e-01,   9.43352000e-01,\n         9.46117000e-01,   1.30502700e+00,   1.12594600e+00,\n         6.90754000e-01,   8.06641000e-01,   1.61367400e+00,\n         6.01847000e-01,   9.52089000e-01,   3.18105000e-01,\n         5.54015000e-01,   1.48250000e+00,   4.88678000e-01,\n         4.35741000e-01,   1.38145500e+00,   1.48158900e+00,\n         8.97260000e-02,   3.45853000e-01,   1.28288000e+00,\n         7.54467000e-01,   1.21196100e+00,   7.01523000e-01,\n         5.05790000e-01,   6.49292000e-01,   6.15284000e-01,\n         9.31960000e-01,   3.99333000e-01,   1.28983300e+00,\n         3.90620000e-02,   1.49614400e+00,   1.00576400e+00,\n         4.96377000e-01,   5.13876000e-01,   1.51803600e+00,\n         1.28593900e+00,   1.60631200e+00,   5.60970000e-01,\n         9.89920000e-01,   3.85480000e-02,   4.62281000e-01,\n         2.42019000e-01,   1.14156900e+00,   1.45631700e+00,\n         2.43945000e-01,   1.28011100e+00,   7.80977000e-01,\n         1.23325400e+00,   4.68104000e-01,   5.67347000e-01,\n         1.44203400e+00,   1.58215900e+00,   5.70684000e-01,\n         5.44233000e-01,   8.50410000e-01,   1.66478200e+00,\n         2.80369000e-01,   3.75849000e-01,   9.21920000e-02,\n         1.19284000e-01,   1.33251000e-01,   3.21216000e-01,\n         1.29285800e+00,   2.23524000e-01,   6.08040000e-01,\n         4.58401000e-01,   1.59807000e+00,   1.60348100e+00,\n         1.27320400e+00,   1.18270800e+00,   8.90411000e-01,\n         1.45698200e+00,   1.52068300e+00,   1.18773400e+00,\n         4.23180000e-02,   8.09226000e-01,   1.58328600e+00,\n         6.92513000e-01,   4.74080000e-01,   5.89826000e-01,\n         5.67201000e-01,   8.71452000e-01,   3.35848000e-01,\n         7.51060000e-02,   4.79996000e-01,   6.11135000e-01,\n         1.18011700e+00,   1.67972900e+00,   1.45958900e+00,\n         1.15600000e-03,   7.97743000e-01,   1.09288000e-01,\n         1.68977100e+00,   1.12605300e+00,   1.69090300e+00,\n         1.31751800e+00,   2.68271000e-01,   1.11745600e+00,\n         1.52101200e+00,   8.35341000e-01,   5.12104000e-01,\n         9.27465000e-01,   8.13624000e-01,   8.86902000e-01,\n         1.27272800e+00,   9.71401000e-01,   1.59260800e+00,\n         3.44622000e-01,   9.22846000e-01,   5.73686000e-01,\n         1.15505400e+00,   1.63869000e+00,   1.31340100e+00,\n         6.16162000e-01,   6.16313000e-01,   3.62388000e-01,\n         1.20719400e+00,   4.03110000e-01,   8.25959000e-01,\n         5.86846000e-01,   1.42142000e+00,   1.54174900e+00,\n         1.10355300e+00,   2.07307000e-01,   1.63126200e+00,\n         4.04385000e-01,   9.29789000e-01,   2.68326000e-01,\n         1.11537500e+00,   3.91045000e-01,   1.57297000e+00,\n         1.51101400e+00,   2.86284000e-01,   1.94343000e-01,\n         2.02415000e-01,   8.00021000e-01,   1.01218200e+00,\n         8.36025000e-01,   1.45897900e+00,   1.53140000e-02,\n         6.76371000e-01,   4.93483000e-01,   2.53317000e-01,\n         9.92070000e-02,   5.84973000e-01,   1.69187300e+00,\n         5.59757000e-01,   5.59810000e-02,   1.64530100e+00,\n         3.35870000e-01,   1.34612100e+00,   5.84555000e-01,\n         1.51211100e+00,   3.24230000e-01,   7.93183000e-01,\n         1.30902000e-01,   2.23502000e-01,   1.00748100e+00,\n         1.62910000e-01,   3.25760000e-02,   1.51074700e+00,\n         7.48506000e-01,   1.68794400e+00,   3.90409000e-01,\n         5.56245000e-01,   2.90218000e-01,   1.18814800e+00,\n         1.48263200e+00,   7.11278000e-01,   7.56030000e-01,\n         4.31468000e-01,   8.83813000e-01,   1.43830700e+00,\n         1.08353600e+00,   3.01636000e-01,   1.47592500e+00,\n         1.98875000e-01,   5.52602000e-01,   6.36238000e-01,\n         1.50373500e+00,   1.43389800e+00,   9.84614000e-01,\n         1.09786600e+00,   4.94701000e-01,   1.39880300e+00,\n         1.67012100e+00,   1.58504400e+00,   1.56035200e+00,\n         5.45321000e-01,   7.66103000e-01,   4.50663000e-01,\n         1.42912000e-01,   1.26045500e+00,   9.30020000e-02,\n         1.02710500e+00,   1.36972600e+00,   5.12220000e-01,\n         6.67579000e-01,   1.97068000e-01,   1.49461600e+00,\n         1.19417700e+00,   5.70455000e-01,   1.66162700e+00,\n         1.51176800e+00,   7.97920000e-02,   1.59541800e+00,\n         3.66300000e-03,   1.56898700e+00,   8.78540000e-01,\n         9.48004000e-01,   1.35792600e+00,   5.35966000e-01,\n         4.90906000e-01,   1.62331100e+00,   5.38867000e-01,\n         1.64660000e+00,   3.84686000e-01,   1.59729400e+00,\n         1.21132900e+00,   1.05434000e+00,   3.78081000e-01,\n         4.85385000e-01,   1.03987300e+00,   8.19560000e-01,\n         2.31658000e-01,   1.47600800e+00,   1.43183700e+00,\n         1.36384200e+00,   8.31222000e-01,   1.25385800e+00,\n         6.84264000e-01,   2.42710000e-02,   9.82593000e-01,\n         6.85218000e-01,   5.74550000e-02,   1.52143200e+00,\n         1.65357400e+00,   1.32148100e+00,   6.64168000e-01,\n         6.22589000e-01,   1.25444100e+00,   1.62245800e+00,\n         1.54482700e+00,   1.03541000e+00,   1.11215300e+00,\n         7.58040000e-02,   1.56432500e+00,   1.40244300e+00,\n         1.59615200e+00,   3.75806000e-01,   4.38553000e-01,\n         1.21399000e-01,   2.98710000e-02,   8.36323000e-01,\n         2.35483000e-01,   8.88582000e-01,   1.52185500e+00,\n         3.43210000e-02,   5.37807000e-01,   1.11141600e+00,\n         1.02875000e+00,   2.44167000e-01,   1.37039900e+00,\n         9.35893000e-01,   1.44089000e-01,   4.92487000e-01,\n         5.69700000e-03,   1.37419000e-01,   1.08350500e+00,\n         1.08629700e+00,   1.29931900e+00,   1.10417800e+00,\n         1.34682100e+00,   9.80949000e-01,   1.47367100e+00,\n         8.85340000e-01,   1.54922300e+00,   1.37674500e+00,\n         1.12799000e-01,   1.54358900e+00,   1.06938000e+00,\n         1.56822300e+00,   1.53193300e+00,   1.11738600e+00,\n         1.31898800e+00,   1.03954600e+00,   2.19361000e-01,\n         5.92348000e-01,   1.43675300e+00,   1.42731600e+00,\n         4.89252000e-01,   3.89459000e-01,   1.09882800e+00,\n         1.11146400e+00,   8.19419000e-01,   1.41213000e+00,\n         5.71292000e-01,   1.62686800e+00,   2.71380000e-02,\n         8.77350000e-01,   5.21631000e-01,   2.59339000e-01,\n         6.71355000e-01,   3.31502000e-01,   6.07652000e-01,\n         8.44205000e-01,   2.40084000e-01,   1.64347900e+00,\n         8.92361000e-01,   7.56162000e-01,   1.95886000e-01,\n         4.76102000e-01,   7.68050000e-02,   1.11577800e+00,\n         1.48595200e+00,   1.42065500e+00,   5.13048000e-01,\n         3.91834000e-01,   5.20078000e-01,   1.10062000e-01,\n         7.79984000e-01,   1.35997000e+00,   1.62476200e+00,\n         1.21560500e+00,   1.41707000e+00,   5.94089000e-01,\n         6.20841000e-01,   3.59329000e-01,   2.17011000e-01,\n         1.28976700e+00,   8.70075000e-01,   1.14250500e+00,\n         1.23565000e+00,   1.58176300e+00,   8.64536000e-01,\n         1.92451000e-01,   1.59153200e+00,   1.52808000e-01,\n         1.84896000e-01,   1.12340000e-01,   1.53716500e+00,\n         1.58516200e+00,   1.03463500e+00,   5.42603000e-01,\n         1.53771000e-01,   1.45090300e+00,   1.23101900e+00,\n         1.57229300e+00,   1.18519200e+00,   1.43647900e+00,\n         7.19500000e-03,   7.83310000e-02,   7.32746000e-01,\n         6.99755000e-01,   1.57648800e+00,   1.19931200e+00,\n         1.13130500e+00,   7.10694000e-01,   9.74142000e-01,\n         3.10488000e-01,   8.76904000e-01,   1.23738000e-01,\n         1.09517100e+00,   1.55720500e+00,   8.52971000e-01,\n         5.26707000e-01,   1.28845900e+00,   1.65748700e+00,\n         1.37860300e+00,   1.42665700e+00,   1.43002900e+00,\n         6.88513000e-01,   1.41113700e+00,   7.66119000e-01,\n         1.61548300e+00,   4.75994000e-01,   3.04378000e-01,\n         3.07392000e-01,   1.64320400e+00,   1.32504200e+00,\n         7.05788000e-01,   2.86188000e-01,   7.04748000e-01,\n         5.45337000e-01,   2.18067000e-01,   5.58388000e-01,\n         1.22178700e+00,   6.81478000e-01,   1.29269200e+00,\n         3.39926000e-01,   2.67826000e-01,   4.16181000e-01,\n         9.85462000e-01,   4.95403000e-01,   1.38274200e+00,\n         3.71460000e-02,   1.98118000e-01,   6.19968000e-01,\n         6.78179000e-01,   3.59205000e-01,   9.66786000e-01,\n         5.05898000e-01,   3.52865000e-01,   1.06874000e+00,\n         1.27310000e-01,   1.61994700e+00,   9.94858000e-01,\n         4.13690000e-01,   4.44320000e-01,   8.02985000e-01,\n         1.17039700e+00,   1.58234600e+00,   1.27798800e+00,\n         1.51617000e-01,   1.18059600e+00,   5.37540000e-01,\n         2.50562000e-01,   9.20494000e-01,   1.51097900e+00,\n         1.53151400e+00,   2.63320000e-02,   1.63017700e+00,\n         1.01370200e+00,   1.15686200e+00,   8.62910000e-02,\n         1.38856900e+00,   7.15577000e-01,   1.69497200e+00,\n         1.42887900e+00,   1.34181000e-01,   1.89456000e-01,\n         1.43668000e-01,   6.52651000e-01,   5.22620000e-02,\n         5.50423000e-01,   9.89159000e-01,   7.24054000e-01,\n         2.54836000e-01,   1.37798300e+00,   2.53460000e-02,\n         7.81569000e-01,   9.24198000e-01,   1.08566900e+00,\n         1.47068600e+00,   5.23360000e-02,   1.09307000e+00,\n         2.87251000e-01,   1.66010400e+00,   1.37054900e+00,\n         1.37348000e-01,   9.97350000e-02,   1.24739000e+00,\n         4.45386000e-01,   1.33169800e+00,   1.55191100e+00,\n         3.32365000e-01,   4.87577000e-01,   1.15516000e+00,\n         1.62808500e+00,   1.57040200e+00,   1.32413200e+00,\n         2.23382000e-01,   1.28078000e-01,   2.89040000e-02,\n         4.27554000e-01,   6.55245000e-01,   3.78725000e-01,\n         1.00232800e+00,   1.47824400e+00,   4.21993000e-01,\n         1.47917000e-01,   1.37003900e+00,   6.93453000e-01,\n         1.52154100e+00,   1.31267900e+00,   2.19962000e-01,\n         1.38850000e+00,   6.77603000e-01,   8.09107000e-01,\n         6.61524000e-01,   8.36807000e-01,   1.29746900e+00,\n         1.31226600e+00,   1.93494000e-01,   5.90905000e-01,\n         3.07364000e-01,   7.34876000e-01,   7.66619000e-01,\n         2.84790000e-02,   1.21673300e+00,   1.09440900e+00,\n         1.08772100e+00,   1.01977500e+00,   9.93105000e-01,\n         8.09614000e-01,   1.39501500e+00,   1.01925400e+00,\n         5.33462000e-01,   8.67250000e-02,   3.80172000e-01,\n         8.85457000e-01,   4.88985000e-01,   8.04403000e-01,\n         1.21232800e+00,   1.47737800e+00,   1.60684900e+00,\n         8.27814000e-01,   1.02079700e+00,   1.27016700e+00,\n         5.51830000e-02,   6.00200000e-02,   1.47985600e+00,\n         4.59517000e-01,   1.65027900e+00,   2.19350000e-02,\n         3.87455000e-01,   1.32344800e+00,   8.61859000e-01,\n         1.43847000e+00,   1.11018000e+00,   7.30979000e-01,\n         6.84218000e-01,   1.38908800e+00,   8.74905000e-01,\n         1.37033000e+00,   2.87767000e-01,   1.25364600e+00,\n         1.50375800e+00,   1.21116000e+00,   3.64240000e-01,\n         4.24280000e-01,   1.20947000e-01,   1.03328000e+00,\n         1.63950000e-02,   6.16349000e-01,   5.63044000e-01,\n         1.25630000e-02,   1.43703000e+00,   6.98269000e-01,\n         1.38018400e+00,   1.84223000e-01,   8.76581000e-01,\n         1.28706000e-01,   4.32818000e-01,   3.33300000e-01,\n         3.29181000e-01,   4.29927000e-01,   6.31838000e-01,\n         6.69787000e-01,   8.66627000e-01,   7.28045000e-01,\n         1.33244600e+00])"
      ]
     },
     "execution_count": 50,
     "metadata": {},
     "output_type": "execute_result"
    }
   ],
   "source": [
    "datingDataMat[:,2]"
   ]
  },
  {
   "cell_type": "code",
   "execution_count": 51,
   "metadata": {},
   "outputs": [],
   "source": [
    "fig1 =plt.figure()\n",
    "x = random.rand(100)\n",
    "y = random.rand(100)"
   ]
  },
  {
   "cell_type": "code",
   "execution_count": 60,
   "metadata": {},
   "outputs": [
    {
     "data": {
      "image/png": "[encoded data removed]",
      "text/plain": [
       "<matplotlib.figure.Figure at 0x175debfe3c8>"
      ]
     },
     "metadata": {},
     "output_type": "display_data"
    }
   ],
   "source": [
    "plt.scatter(x,y,15*x,y)\n",
    "plt.show()"
   ]
  },
  {
   "cell_type": "code",
   "execution_count": 61,
   "metadata": {},
   "outputs": [],
   "source": [
    "def autoNum(dataSet):\n",
    "    minVals = dataSet.min(0)\n",
    "    maxVals = dataSet.max(0)\n",
    "    ranges = maxVals - minVals\n",
    "    normalDataSet = zeros(shape(dataSet))\n",
    "    m = dataSet.shape[0]\n",
    "    normalDataSet = dataSet - tile(minVals,(m,1))\n",
    "    normalDataSet = normalDataSet/tile(ranges,(m,1))\n",
    "    return normalDataSet,ranges,minVals"
   ]
  },
  {
   "cell_type": "code",
   "execution_count": 62,
   "metadata": {},
   "outputs": [],
   "source": [
    "normMat, ranges, minVals = autoNum(datingDataMat)"
   ]
  },
  {
   "cell_type": "code",
   "execution_count": 63,
   "metadata": {},
   "outputs": [
    {
     "data": {
      "text/plain": [
       "array([[ 0.44832535,  0.39805139,  0.56233353],\n       [ 0.15873259,  0.34195467,  0.98724416],\n       [ 0.28542943,  0.06892523,  0.47449629],\n       ..., \n       [ 0.29115949,  0.50910294,  0.51079493],\n       [ 0.52711097,  0.43665451,  0.4290048 ],\n       [ 0.47940793,  0.3768091 ,  0.78571804]])"
      ]
     },
     "execution_count": 63,
     "metadata": {},
     "output_type": "execute_result"
    }
   ],
   "source": [
    "normMat"
   ]
  },
  {
   "cell_type": "code",
   "execution_count": 64,
   "metadata": {},
   "outputs": [
    {
     "data": {
      "text/plain": [
       "array([  9.12730000e+04,   2.09193490e+01,   1.69436100e+00])"
      ]
     },
     "execution_count": 64,
     "metadata": {},
     "output_type": "execute_result"
    }
   ],
   "source": [
    "ranges"
   ]
  },
  {
   "cell_type": "code",
   "execution_count": 65,
   "metadata": {},
   "outputs": [
    {
     "data": {
      "text/plain": [
       "array([ 0.      ,  0.      ,  0.001156])"
      ]
     },
     "execution_count": 65,
     "metadata": {},
     "output_type": "execute_result"
    }
   ],
   "source": [
    "minVals"
   ]
  },
  {
   "cell_type": "code",
   "execution_count": 66,
   "metadata": {},
   "outputs": [],
   "source": [
    "def datingClassTest():\n",
    "    hoRatio = 0.50      #hold out 10%\n",
    "    datingDataMat,datingLabels = file2matrix('datingTestSet2.txt')       #load data setfrom file\n",
    "    normMat, ranges, minVals = autoNum(datingDataMat)\n",
    "    m = normMat.shape[0]\n",
    "    numTestVecs = int(m*hoRatio)\n",
    "    errorCount = 0.0\n",
    "    for i in range(numTestVecs):\n",
    "        classifierResult = classify0(normMat[i,:],normMat[numTestVecs:m,:],datingLabels[numTestVecs:m],3)\n",
    "        print (\"the classifier came back with: %d, the real answer is: %d\" % (classifierResult, datingLabels[i]))\n",
    "        if (classifierResult != datingLabels[i]): errorCount += 1.0\n",
    "    print (\"the total error rate is: %f\" % (errorCount/float(numTestVecs)))\n",
    "    print (errorCount)"
   ]
  },
  {
   "cell_type": "code",
   "execution_count": 67,
   "metadata": {},
   "outputs": [
    {
     "name": "stdout",
     "output_type": "stream",
     "text": [
      "the classifier came back with: 3, the real answer is: 3\nthe classifier came back with: 2, the real answer is: 2\nthe classifier came back with: 1, the real answer is: 1\nthe classifier came back with: 1, the real answer is: 1\nthe classifier came back with: 1, the real answer is: 1\nthe classifier came back with: 1, the real answer is: 1\nthe classifier came back with: 3, the real answer is: 3\nthe classifier came back with: 3, the real answer is: 3\nthe classifier came back with: 1, the real answer is: 1\nthe classifier came back with: 3, the real answer is: 3\nthe classifier came back with: 1, the real answer is: 1\nthe classifier came back with: 1, the real answer is: 1\nthe classifier came back with: 2, the real answer is: 2\nthe classifier came back with: 1, the real answer is: 1\nthe classifier came back with: 1, the real answer is: 1\nthe classifier came back with: 1, the real answer is: 1\nthe classifier came back with: 1, the real answer is: 1\nthe classifier came back with: 1, the real answer is: 1\nthe classifier came back with: 2, the real answer is: 2\nthe classifier came back with: 3, the real answer is: 3\nthe classifier came back with: 2, the real answer is: 2\nthe classifier came back with: 1, the real answer is: 1\nthe classifier came back with: 1, the real answer is: 2\nthe classifier came back with: 3, the real answer is: 3\nthe classifier came back with: 2, the real answer is: 2\nthe classifier came back with: 3, the real answer is: 3\nthe classifier came back with: 2, the real answer is: 2\nthe classifier came back with: 3, the real answer is: 3\nthe classifier came back with: 2, the real answer is: 2\nthe classifier came back with: 1, the real answer is: 1\nthe classifier came back with: 3, the real answer is: 3\nthe classifier came back with: 1, the real answer is: 1\nthe classifier came back with: 2, the real answer is: 3\nthe classifier came back with: 1, the real answer is: 1\nthe classifier came back with: 3, the real answer is: 2\nthe classifier came back with: 1, the real answer is: 1\nthe classifier came back with: 1, the real answer is: 1\nthe classifier came back with: 2, the real answer is: 2\nthe classifier came back with: 3, the real answer is: 3\nthe classifier came back with: 3, the real answer is: 3\nthe classifier came back with: 1, the real answer is: 1\nthe classifier came back with: 2, the real answer is: 2\nthe classifier came back with: 3, the real answer is: 3\nthe classifier came back with: 3, the real answer is: 3\nthe classifier came back with: 3, the real answer is: 3\nthe classifier came back with: 1, the real answer is: 1\nthe classifier came back with: 1, the real answer is: 1\nthe classifier came back with: 1, the real answer is: 1\nthe classifier came back with: 1, the real answer is: 1\nthe classifier came back with: 2, the real answer is: 2\nthe classifier came back with: 2, the real answer is: 2\nthe classifier came back with: 1, the real answer is: 1\nthe classifier came back with: 3, the real answer is: 3\nthe classifier came back with: 2, the real answer is: 2\nthe classifier came back with: 2, the real answer is: 2\nthe classifier came back with: 2, the real answer is: 2\nthe classifier came back with: 2, the real answer is: 2\nthe classifier came back with: 3, the real answer is: 3\nthe classifier came back with: 1, the real answer is: 1\nthe classifier came back with: 2, the real answer is: 2\nthe classifier came back with: 1, the real answer is: 1\nthe classifier came back with: 2, the real answer is: 2\nthe classifier came back with: 2, the real answer is: 2\nthe classifier came back with: 2, the real answer is: 2\nthe classifier came back with: 2, the real answer is: 2\nthe classifier came back with: 2, the real answer is: 2\nthe classifier came back with: 3, the real answer is: 3\nthe classifier came back with: 2, the real answer is: 2\nthe classifier came back with: 3, the real answer is: 3\nthe classifier came back with: 1, the real answer is: 1\nthe classifier came back with: 2, the real answer is: 2\nthe classifier came back with: 3, the real answer is: 3\nthe classifier came back with: 2, the real answer is: 2\nthe classifier came back with: 2, the real answer is: 2\nthe classifier came back with: 3, the real answer is: 1\nthe classifier came back with: 3, the real answer is: 3\nthe classifier came back with: 1, the real answer is: 1\nthe classifier came back with: 1, the real answer is: 1\nthe classifier came back with: 3, the real answer is: 3\nthe classifier came back with: 3, the real answer is: 3\nthe classifier came back with: 1, the real answer is: 1\nthe classifier came back with: 2, the real answer is: 2\nthe classifier came back with: 3, the real answer is: 3\nthe classifier came back with: 1, the real answer is: 1\nthe classifier came back with: 3, the real answer is: 3\nthe classifier came back with: 1, the real answer is: 1\nthe classifier came back with: 2, the real answer is: 2\nthe classifier came back with: 2, the real answer is: 2\nthe classifier came back with: 1, the real answer is: 1\nthe classifier came back with: 1, the real answer is: 1\nthe classifier came back with: 3, the real answer is: 3\nthe classifier came back with: 2, the real answer is: 3\nthe classifier came back with: 1, the real answer is: 1\nthe classifier came back with: 2, the real answer is: 2\nthe classifier came back with: 1, the real answer is: 1\nthe classifier came back with: 3, the real answer is: 3\nthe classifier came back with: 3, the real answer is: 3\nthe classifier came back with: 3, the real answer is: 2\nthe classifier came back with: 2, the real answer is: 1\nthe classifier came back with: 1, the real answer is: 1\nthe classifier came back with: 3, the real answer is: 3\nthe classifier came back with: 2, the real answer is: 1\nthe classifier came back with: 2, the real answer is: 2\nthe classifier came back with: 3, the real answer is: 3\nthe classifier came back with: 3, the real answer is: 3\nthe classifier came back with: 2, the real answer is: 2\nthe classifier came back with: 3, the real answer is: 3\nthe classifier came back with: 3, the real answer is: 3\nthe classifier came back with: 1, the real answer is: 1\nthe classifier came back with: 2, the real answer is: 2\nthe classifier came back with: 2, the real answer is: 3\nthe classifier came back with: 2, the real answer is: 2\nthe classifier came back with: 1, the real answer is: 1\nthe classifier came back with: 3, the real answer is: 3\nthe classifier came back with: 1, the real answer is: 1\nthe classifier came back with: 2, the real answer is: 2\nthe classifier came back with: 1, the real answer is: 1\nthe classifier came back with: 2, the real answer is: 1\nthe classifier came back with: 2, the real answer is: 2\nthe classifier came back with: 3, the real answer is: 3\nthe classifier came back with: 2, the real answer is: 2\nthe classifier came back with: 3, the real answer is: 3\nthe classifier came back with: 2, the real answer is: 2\nthe classifier came back with: 3, the real answer is: 3\nthe classifier came back with: 2, the real answer is: 2\nthe classifier came back with: 1, the real answer is: 1\nthe classifier came back with: 3, the real answer is: 3\nthe classifier came back with: 3, the real answer is: 3\nthe classifier came back with: 3, the real answer is: 3\nthe classifier came back with: 1, the real answer is: 1\nthe classifier came back with: 3, the real answer is: 3\nthe classifier came back with: 2, the real answer is: 2\nthe classifier came back with: 2, the real answer is: 2\nthe classifier came back with: 3, the real answer is: 3\nthe classifier came back with: 1, the real answer is: 1\nthe classifier came back with: 3, the real answer is: 3\nthe classifier came back with: 3, the real answer is: 3\nthe classifier came back with: 3, the real answer is: 3\nthe classifier came back with: 1, the real answer is: 1\nthe classifier came back with: 3, the real answer is: 3\nthe classifier came back with: 1, the real answer is: 1\nthe classifier came back with: 1, the real answer is: 1\nthe classifier came back with: 3, the real answer is: 3\nthe classifier came back with: 3, the real answer is: 3\nthe classifier came back with: 2, the real answer is: 2\nthe classifier came back with: 3, the real answer is: 3\nthe classifier came back with: 3, the real answer is: 3\nthe classifier came back with: 1, the real answer is: 1\nthe classifier came back with: 2, the real answer is: 2\nthe classifier came back with: 3, the real answer is: 3\nthe classifier came back with: 2, the real answer is: 2\nthe classifier came back with: 2, the real answer is: 2\nthe classifier came back with: 3, the real answer is: 3\nthe classifier came back with: 3, the real answer is: 3\nthe classifier came back with: 3, the real answer is: 3\nthe classifier came back with: 1, the real answer is: 1\nthe classifier came back with: 2, the real answer is: 2\nthe classifier came back with: 2, the real answer is: 2\nthe classifier came back with: 1, the real answer is: 1\nthe classifier came back with: 1, the real answer is: 1\nthe classifier came back with: 3, the real answer is: 3\nthe classifier came back with: 2, the real answer is: 2\nthe classifier came back with: 2, the real answer is: 3\nthe classifier came back with: 3, the real answer is: 3\nthe classifier came back with: 1, the real answer is: 1\nthe classifier came back with: 2, the real answer is: 2\nthe classifier came back with: 1, the real answer is: 1\nthe classifier came back with: 3, the real answer is: 3\nthe classifier came back with: 1, the real answer is: 1\nthe classifier came back with: 2, the real answer is: 2\nthe classifier came back with: 3, the real answer is: 3\nthe classifier came back with: 2, the real answer is: 2\nthe classifier came back with: 3, the real answer is: 3\nthe classifier came back with: 1, the real answer is: 1\nthe classifier came back with: 3, the real answer is: 1\nthe classifier came back with: 3, the real answer is: 1\nthe classifier came back with: 3, the real answer is: 3\nthe classifier came back with: 2, the real answer is: 2\nthe classifier came back with: 3, the real answer is: 3\nthe classifier came back with: 1, the real answer is: 1\nthe classifier came back with: 3, the real answer is: 3\nthe classifier came back with: 2, the real answer is: 2\nthe classifier came back with: 3, the real answer is: 1\nthe classifier came back with: 3, the real answer is: 3\nthe classifier came back with: 2, the real answer is: 2\nthe classifier came back with: 2, the real answer is: 2\nthe classifier came back with: 3, the real answer is: 3\nthe classifier came back with: 2, the real answer is: 2\nthe classifier came back with: 3, the real answer is: 3\nthe classifier came back with: 2, the real answer is: 2\nthe classifier came back with: 1, the real answer is: 1\nthe classifier came back with: 2, the real answer is: 1\nthe classifier came back with: 3, the real answer is: 3\nthe classifier came back with: 1, the real answer is: 1\nthe classifier came back with: 2, the real answer is: 3\nthe classifier came back with: 2, the real answer is: 2\nthe classifier came back with: 2, the real answer is: 2\nthe classifier came back with: 2, the real answer is: 2\nthe classifier came back with: 3, the real answer is: 3\nthe classifier came back with: 2, the real answer is: 2\nthe classifier came back with: 2, the real answer is: 2\nthe classifier came back with: 1, the real answer is: 1\nthe classifier came back with: 2, the real answer is: 2\nthe classifier came back with: 2, the real answer is: 2\nthe classifier came back with: 3, the real answer is: 3\nthe classifier came back with: 1, the real answer is: 1\nthe classifier came back with: 3, the real answer is: 3\nthe classifier came back with: 3, the real answer is: 3\nthe classifier came back with: 2, the real answer is: 2\nthe classifier came back with: 1, the real answer is: 1\nthe classifier came back with: 1, the real answer is: 1\nthe classifier came back with: 1, the real answer is: 1\nthe classifier came back with: 2, the real answer is: 2\nthe classifier came back with: 1, the real answer is: 1\nthe classifier came back with: 3, the real answer is: 3\nthe classifier came back with: 3, the real answer is: 3\nthe classifier came back with: 3, the real answer is: 3\nthe classifier came back with: 3, the real answer is: 3\nthe classifier came back with: 2, the real answer is: 2\nthe classifier came back with: 1, the real answer is: 1\nthe classifier came back with: 1, the real answer is: 1\nthe classifier came back with: 1, the real answer is: 1\nthe classifier came back with: 2, the real answer is: 2\nthe classifier came back with: 3, the real answer is: 3\nthe classifier came back with: 2, the real answer is: 2\nthe classifier came back with: 1, the real answer is: 1\nthe classifier came back with: 3, the real answer is: 3\nthe classifier came back with: 1, the real answer is: 1\nthe classifier came back with: 3, the real answer is: 3\nthe classifier came back with: 2, the real answer is: 2\nthe classifier came back with: 2, the real answer is: 2\nthe classifier came back with: 2, the real answer is: 3\nthe classifier came back with: 1, the real answer is: 1\nthe classifier came back with: 3, the real answer is: 3\nthe classifier came back with: 1, the real answer is: 1\nthe classifier came back with: 1, the real answer is: 1\nthe classifier came back with: 2, the real answer is: 2\nthe classifier came back with: 1, the real answer is: 1\nthe classifier came back with: 2, the real answer is: 2\nthe classifier came back with: 2, the real answer is: 2\nthe classifier came back with: 1, the real answer is: 1\nthe classifier came back with: 3, the real answer is: 3\nthe classifier came back with: 1, the real answer is: 1\nthe classifier came back with: 3, the real answer is: 3\nthe classifier came back with: 3, the real answer is: 2\nthe classifier came back with: 3, the real answer is: 3\nthe classifier came back with: 1, the real answer is: 1\nthe classifier came back with: 2, the real answer is: 2\nthe classifier came back with: 3, the real answer is: 3\nthe classifier came back with: 1, the real answer is: 1\nthe classifier came back with: 1, the real answer is: 1\nthe classifier came back with: 1, the real answer is: 1\nthe classifier came back with: 1, the real answer is: 1\nthe classifier came back with: 2, the real answer is: 2\nthe classifier came back with: 3, the real answer is: 3\nthe classifier came back with: 2, the real answer is: 2\nthe classifier came back with: 2, the real answer is: 2\nthe classifier came back with: 3, the real answer is: 3\nthe classifier came back with: 1, the real answer is: 1\nthe classifier came back with: 2, the real answer is: 2\nthe classifier came back with: 1, the real answer is: 1\nthe classifier came back with: 1, the real answer is: 1\nthe classifier came back with: 1, the real answer is: 1\nthe classifier came back with: 3, the real answer is: 3\nthe classifier came back with: 3, the real answer is: 3\nthe classifier came back with: 2, the real answer is: 2\nthe classifier came back with: 3, the real answer is: 1\nthe classifier came back with: 1, the real answer is: 1\nthe classifier came back with: 1, the real answer is: 1\nthe classifier came back with: 2, the real answer is: 2\nthe classifier came back with: 2, the real answer is: 2\nthe classifier came back with: 3, the real answer is: 3\nthe classifier came back with: 1, the real answer is: 1\nthe classifier came back with: 1, the real answer is: 1\nthe classifier came back with: 1, the real answer is: 1\nthe classifier came back with: 2, the real answer is: 2\nthe classifier came back with: 1, the real answer is: 1\nthe classifier came back with: 1, the real answer is: 1\nthe classifier came back with: 2, the real answer is: 2\nthe classifier came back with: 1, the real answer is: 1\nthe classifier came back with: 3, the real answer is: 1\nthe classifier came back with: 1, the real answer is: 1\nthe classifier came back with: 2, the real answer is: 2\nthe classifier came back with: 2, the real answer is: 2\nthe classifier came back with: 3, the real answer is: 3\nthe classifier came back with: 3, the real answer is: 2\nthe classifier came back with: 3, the real answer is: 3\nthe classifier came back with: 2, the real answer is: 3\nthe classifier came back with: 3, the real answer is: 3\nthe classifier came back with: 3, the real answer is: 3\nthe classifier came back with: 1, the real answer is: 1\nthe classifier came back with: 2, the real answer is: 2\nthe classifier came back with: 3, the real answer is: 3\nthe classifier came back with: 2, the real answer is: 1\nthe classifier came back with: 1, the real answer is: 1\nthe classifier came back with: 1, the real answer is: 1\nthe classifier came back with: 3, the real answer is: 3\nthe classifier came back with: 1, the real answer is: 1\nthe classifier came back with: 3, the real answer is: 3\nthe classifier came back with: 2, the real answer is: 2\nthe classifier came back with: 2, the real answer is: 2\nthe classifier came back with: 1, the real answer is: 1\nthe classifier came back with: 3, the real answer is: 3\nthe classifier came back with: 1, the real answer is: 1\nthe classifier came back with: 3, the real answer is: 3\nthe classifier came back with: 1, the real answer is: 2\nthe classifier came back with: 2, the real answer is: 2\nthe classifier came back with: 1, the real answer is: 1\nthe classifier came back with: 2, the real answer is: 2\nthe classifier came back with: 2, the real answer is: 2\nthe classifier came back with: 3, the real answer is: 3\nthe classifier came back with: 1, the real answer is: 1\nthe classifier came back with: 3, the real answer is: 3\nthe classifier came back with: 2, the real answer is: 2\nthe classifier came back with: 1, the real answer is: 1\nthe classifier came back with: 1, the real answer is: 1\nthe classifier came back with: 3, the real answer is: 3\nthe classifier came back with: 3, the real answer is: 3\nthe classifier came back with: 2, the real answer is: 2\nthe classifier came back with: 1, the real answer is: 3\nthe classifier came back with: 3, the real answer is: 3\nthe classifier came back with: 2, the real answer is: 2\nthe classifier came back with: 3, the real answer is: 3\nthe classifier came back with: 1, the real answer is: 1\nthe classifier came back with: 3, the real answer is: 3\nthe classifier came back with: 1, the real answer is: 1\nthe classifier came back with: 3, the real answer is: 3\nthe classifier came back with: 3, the real answer is: 3\nthe classifier came back with: 1, the real answer is: 1\nthe classifier came back with: 3, the real answer is: 3\nthe classifier came back with: 2, the real answer is: 2\nthe classifier came back with: 1, the real answer is: 1\nthe classifier came back with: 3, the real answer is: 3\nthe classifier came back with: 1, the real answer is: 1\nthe classifier came back with: 3, the real answer is: 3\nthe classifier came back with: 2, the real answer is: 2\nthe classifier came back with: 1, the real answer is: 1\nthe classifier came back with: 2, the real answer is: 2\nthe classifier came back with: 2, the real answer is: 2\nthe classifier came back with: 1, the real answer is: 1\nthe classifier came back with: 3, the real answer is: 3\nthe classifier came back with: 1, the real answer is: 1\nthe classifier came back with: 1, the real answer is: 1\nthe classifier came back with: 3, the real answer is: 3\nthe classifier came back with: 3, the real answer is: 3\nthe classifier came back with: 2, the real answer is: 2\nthe classifier came back with: 2, the real answer is: 2\nthe classifier came back with: 3, the real answer is: 3\nthe classifier came back with: 1, the real answer is: 1\nthe classifier came back with: 2, the real answer is: 2\nthe classifier came back with: 3, the real answer is: 3\nthe classifier came back with: 3, the real answer is: 3\nthe classifier came back with: 2, the real answer is: 2\nthe classifier came back with: 2, the real answer is: 2\nthe classifier came back with: 1, the real answer is: 1\nthe classifier came back with: 1, the real answer is: 1\nthe classifier came back with: 1, the real answer is: 1\nthe classifier came back with: 1, the real answer is: 1\nthe classifier came back with: 3, the real answer is: 3\nthe classifier came back with: 2, the real answer is: 2\nthe classifier came back with: 1, the real answer is: 1\nthe classifier came back with: 1, the real answer is: 1\nthe classifier came back with: 3, the real answer is: 3\nthe classifier came back with: 2, the real answer is: 2\nthe classifier came back with: 1, the real answer is: 1\nthe classifier came back with: 3, the real answer is: 1\nthe classifier came back with: 3, the real answer is: 3\nthe classifier came back with: 3, the real answer is: 3\nthe classifier came back with: 3, the real answer is: 3\nthe classifier came back with: 2, the real answer is: 2\nthe classifier came back with: 1, the real answer is: 3\nthe classifier came back with: 2, the real answer is: 2\nthe classifier came back with: 1, the real answer is: 1\nthe classifier came back with: 1, the real answer is: 1\nthe classifier came back with: 1, the real answer is: 1\nthe classifier came back with: 1, the real answer is: 1\nthe classifier came back with: 3, the real answer is: 1\nthe classifier came back with: 3, the real answer is: 3\nthe classifier came back with: 2, the real answer is: 2\nthe classifier came back with: 2, the real answer is: 2\nthe classifier came back with: 1, the real answer is: 1\nthe classifier came back with: 2, the real answer is: 2\nthe classifier came back with: 1, the real answer is: 1\nthe classifier came back with: 3, the real answer is: 3\nthe classifier came back with: 2, the real answer is: 2\nthe classifier came back with: 1, the real answer is: 1\nthe classifier came back with: 3, the real answer is: 3\nthe classifier came back with: 2, the real answer is: 2\nthe classifier came back with: 1, the real answer is: 1\nthe classifier came back with: 3, the real answer is: 3\nthe classifier came back with: 1, the real answer is: 1\nthe classifier came back with: 1, the real answer is: 1\nthe classifier came back with: 1, the real answer is: 3\nthe classifier came back with: 3, the real answer is: 3\nthe classifier came back with: 3, the real answer is: 3\nthe classifier came back with: 3, the real answer is: 3\nthe classifier came back with: 2, the real answer is: 2\nthe classifier came back with: 1, the real answer is: 1\nthe classifier came back with: 1, the real answer is: 1\nthe classifier came back with: 2, the real answer is: 2\nthe classifier came back with: 1, the real answer is: 1\nthe classifier came back with: 3, the real answer is: 3\nthe classifier came back with: 3, the real answer is: 3\nthe classifier came back with: 2, the real answer is: 2\nthe classifier came back with: 1, the real answer is: 1\nthe classifier came back with: 2, the real answer is: 2\nthe classifier came back with: 3, the real answer is: 3\nthe classifier came back with: 2, the real answer is: 2\nthe classifier came back with: 1, the real answer is: 1\nthe classifier came back with: 2, the real answer is: 2\nthe classifier came back with: 2, the real answer is: 2\nthe classifier came back with: 2, the real answer is: 2\nthe classifier came back with: 1, the real answer is: 1\nthe classifier came back with: 1, the real answer is: 1\nthe classifier came back with: 3, the real answer is: 3\nthe classifier came back with: 1, the real answer is: 1\nthe classifier came back with: 1, the real answer is: 1\nthe classifier came back with: 2, the real answer is: 2\nthe classifier came back with: 3, the real answer is: 3\nthe classifier came back with: 1, the real answer is: 1\nthe classifier came back with: 1, the real answer is: 1\nthe classifier came back with: 2, the real answer is: 2\nthe classifier came back with: 3, the real answer is: 3\nthe classifier came back with: 1, the real answer is: 1\nthe classifier came back with: 3, the real answer is: 3\nthe classifier came back with: 1, the real answer is: 1\nthe classifier came back with: 1, the real answer is: 1\nthe classifier came back with: 2, the real answer is: 2\nthe classifier came back with: 2, the real answer is: 2\nthe classifier came back with: 1, the real answer is: 1\nthe classifier came back with: 2, the real answer is: 2\nthe classifier came back with: 2, the real answer is: 2\nthe classifier came back with: 2, the real answer is: 2\nthe classifier came back with: 3, the real answer is: 3\nthe classifier came back with: 1, the real answer is: 1\nthe classifier came back with: 1, the real answer is: 1\nthe classifier came back with: 1, the real answer is: 1\nthe classifier came back with: 3, the real answer is: 3\nthe classifier came back with: 1, the real answer is: 1\nthe classifier came back with: 3, the real answer is: 3\nthe classifier came back with: 1, the real answer is: 1\nthe classifier came back with: 3, the real answer is: 3\nthe classifier came back with: 3, the real answer is: 3\nthe classifier came back with: 1, the real answer is: 1\nthe classifier came back with: 1, the real answer is: 1\nthe classifier came back with: 1, the real answer is: 1\nthe classifier came back with: 3, the real answer is: 3\nthe classifier came back with: 2, the real answer is: 2\nthe classifier came back with: 3, the real answer is: 3\nthe classifier came back with: 3, the real answer is: 3\nthe classifier came back with: 2, the real answer is: 2\nthe classifier came back with: 2, the real answer is: 2\nthe classifier came back with: 1, the real answer is: 1\nthe classifier came back with: 1, the real answer is: 1\nthe classifier came back with: 1, the real answer is: 1\nthe classifier came back with: 2, the real answer is: 2\nthe classifier came back with: 1, the real answer is: 1\nthe classifier came back with: 2, the real answer is: 2\nthe classifier came back with: 2, the real answer is: 2\nthe classifier came back with: 2, the real answer is: 3\nthe classifier came back with: 3, the real answer is: 3\nthe classifier came back with: 3, the real answer is: 3\nthe classifier came back with: 1, the real answer is: 1\nthe classifier came back with: 1, the real answer is: 1\nthe classifier came back with: 3, the real answer is: 3\nthe classifier came back with: 3, the real answer is: 3\nthe classifier came back with: 2, the real answer is: 2\nthe classifier came back with: 3, the real answer is: 3\nthe classifier came back with: 1, the real answer is: 3\nthe classifier came back with: 2, the real answer is: 2\nthe classifier came back with: 2, the real answer is: 3\nthe classifier came back with: 3, the real answer is: 3\nthe classifier came back with: 3, the real answer is: 3\nthe classifier came back with: 2, the real answer is: 2\nthe classifier came back with: 3, the real answer is: 3\nthe classifier came back with: 3, the real answer is: 3\nthe classifier came back with: 1, the real answer is: 1\nthe classifier came back with: 2, the real answer is: 2\nthe classifier came back with: 3, the real answer is: 3\nthe classifier came back with: 2, the real answer is: 2\nthe classifier came back with: 1, the real answer is: 1\nthe classifier came back with: 1, the real answer is: 1\nthe classifier came back with: 1, the real answer is: 1\nthe classifier came back with: 1, the real answer is: 1\nthe classifier came back with: 3, the real answer is: 3\nthe classifier came back with: 3, the real answer is: 3\nthe classifier came back with: 3, the real answer is: 3\nthe classifier came back with: 3, the real answer is: 3\nthe classifier came back with: 2, the real answer is: 2\nthe classifier came back with: 1, the real answer is: 1\nthe classifier came back with: 1, the real answer is: 1\nthe classifier came back with: 1, the real answer is: 1\nthe classifier came back with: 1, the real answer is: 1\nthe classifier came back with: 3, the real answer is: 3\nthe classifier came back with: 1, the real answer is: 1\nthe classifier came back with: 2, the real answer is: 1\nthe classifier came back with: 2, the real answer is: 2\nthe classifier came back with: 1, the real answer is: 1\nthe classifier came back with: 1, the real answer is: 1\nthe classifier came back with: 2, the real answer is: 2\nthe total error rate is: 0.066000\n33.0\n"
     ]
    }
   ],
   "source": [
    "datingClassTest()"
   ]
  },
  {
   "cell_type": "code",
   "execution_count": 76,
   "metadata": {},
   "outputs": [],
   "source": [
    "def classifyPerson():\n",
    "    resultList = ['not at all', 'in small doses', 'in large doses']\n",
    "    prectentTags = float(raw_input('precent time spending on video games'))\n",
    "    ffmile = float(raw_input('frequrnt  '))\n",
    "    icecream = float(raw_input('eat icecream'))\n",
    "    datingDataMat, datingLabels, = file2matrix('datingTestSet2.txt')\n",
    "    normMat,ranges,minVals = autoNum(datingDataMat)\n",
    "    inArr = array([ffmile,prectentTags,icecream])\n",
    "    classifierResult = classify0((inArr-minVals)/ranges,normMat,datingLabels,3)\n",
    "    print('you will probality like this person:', resultList[classifierResult-1])"
   ]
  },
  {
   "cell_type": "code",
   "execution_count": 77,
   "metadata": {},
   "outputs": [
    {
     "ename": "NameError",
     "evalue": "name 'raw_input' is not defined",
     "traceback": [
      "\u001b[0;31m---------------------------------------------------------------------------\u001b[0m",
      "\u001b[0;31mNameError\u001b[0m                                 Traceback (most recent call last)",
      "\u001b[0;32m<ipython-input-77-e148725e19b7>\u001b[0m in \u001b[0;36m<module>\u001b[0;34m()\u001b[0m\n\u001b[0;32m----> 1\u001b[0;31m \u001b[0mclassifyPerson\u001b[0m\u001b[1;33m(\u001b[0m\u001b[1;33m)\u001b[0m\u001b[1;33m\u001b[0m\u001b[0m\n\u001b[0m",
      "\u001b[0;32m<ipython-input-76-9d7384a5369f>\u001b[0m in \u001b[0;36mclassifyPerson\u001b[0;34m()\u001b[0m\n\u001b[1;32m      1\u001b[0m \u001b[1;32mdef\u001b[0m \u001b[0mclassifyPerson\u001b[0m\u001b[1;33m(\u001b[0m\u001b[1;33m)\u001b[0m\u001b[1;33m:\u001b[0m\u001b[1;33m\u001b[0m\u001b[0m\n\u001b[1;32m      2\u001b[0m     \u001b[0mresultList\u001b[0m \u001b[1;33m=\u001b[0m \u001b[1;33m[\u001b[0m\u001b[1;34m'not at all'\u001b[0m\u001b[1;33m,\u001b[0m \u001b[1;34m'in small doses'\u001b[0m\u001b[1;33m,\u001b[0m \u001b[1;34m'in large doses'\u001b[0m\u001b[1;33m]\u001b[0m\u001b[1;33m\u001b[0m\u001b[0m\n\u001b[0;32m----> 3\u001b[0;31m     \u001b[0mprectentTags\u001b[0m \u001b[1;33m=\u001b[0m \u001b[0mfloat\u001b[0m\u001b[1;33m(\u001b[0m\u001b[0mraw_input\u001b[0m\u001b[1;33m(\u001b[0m\u001b[1;34m'precent time spending on video games'\u001b[0m\u001b[1;33m)\u001b[0m\u001b[1;33m)\u001b[0m\u001b[1;33m\u001b[0m\u001b[0m\n\u001b[0m\u001b[1;32m      4\u001b[0m     \u001b[0mffmile\u001b[0m \u001b[1;33m=\u001b[0m \u001b[0mfloat\u001b[0m\u001b[1;33m(\u001b[0m\u001b[0mraw_input\u001b[0m\u001b[1;33m(\u001b[0m\u001b[1;34m'frequrnt  '\u001b[0m\u001b[1;33m)\u001b[0m\u001b[1;33m)\u001b[0m\u001b[1;33m\u001b[0m\u001b[0m\n\u001b[1;32m      5\u001b[0m     \u001b[0micecream\u001b[0m \u001b[1;33m=\u001b[0m \u001b[0mfloat\u001b[0m\u001b[1;33m(\u001b[0m\u001b[0mraw_input\u001b[0m\u001b[1;33m(\u001b[0m\u001b[1;34m'eat icecream'\u001b[0m\u001b[1;33m)\u001b[0m\u001b[1;33m)\u001b[0m\u001b[1;33m\u001b[0m\u001b[0m\n",
      "\u001b[0;31mNameError\u001b[0m: name 'raw_input' is not defined"
     ],
     "output_type": "error"
    }
   ],
   "source": [
    "classifyPerson()"
   ]
  },
  {
   "cell_type": "code",
   "execution_count": null,
   "metadata": {},
   "outputs": [],
   "source": [
    ""
   ]
  }
 ],
 "metadata": {
  "kernelspec": {
   "display_name": "Python 2",
   "language": "python",
   "name": "python2"
  },
  "language_info": {
   "codemirror_mode": {
    "name": "ipython",
    "version": 2.0
   },
   "file_extension": ".py",
   "mimetype": "text/x-python",
   "name": "python",
   "nbconvert_exporter": "python",
   "pygments_lexer": "ipython2",
   "version": "2.7.6"
  }
 },
 "nbformat": 4,
 "nbformat_minor": 0
}